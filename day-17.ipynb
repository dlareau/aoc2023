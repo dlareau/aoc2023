{
 "cells": [
  {
   "cell_type": "code",
   "execution_count": 20,
   "id": "39b03f4a",
   "metadata": {},
   "outputs": [],
   "source": [
    "from aocd.models import Puzzle\n",
    "import networkx as nx\n",
    "puzzle = Puzzle(year=2023, day=17)\n",
    "data = puzzle.input_data\n",
    "%run helper.ipynb"
   ]
  },
  {
   "cell_type": "code",
   "execution_count": 21,
   "id": "8d606282",
   "metadata": {},
   "outputs": [],
   "source": [
    "grid = Grid(data)\n",
    "\n",
    "dir_map = {(0,1): 0, (1,0): 1, (0,-1): 2, (-1, 0): 3}\n",
    "start_node = (0,0)\n",
    "end_node = (len(grid)-1,len(grid[0])-1)\n",
    "\n",
    "def point_diff(a,b):\n",
    "    return (a[0] - b[0], a[1] - b[1])\n",
    "\n",
    "def current_dir(state):\n",
    "    for k, v in dir_map.items():\n",
    "        if state[v] != 0:\n",
    "            return k\n",
    "\n",
    "def is_opposite(a, b):\n",
    "    return (a[0] == -b[0] and a[1] == -b[1])\n",
    "\n",
    "\n",
    "def make_graph(grid, min_travel, max_travel):\n",
    "    graph = nx.DiGraph()\n",
    "    poss_states = flatten([[(i,0,0,0), (0,i,0,0), (0,0,i,0), (0,0,0,i)] for i in range(1, max_travel + 1)])\n",
    "\n",
    "    for row in range(len(grid)):\n",
    "        for col in range(len(grid[0])):\n",
    "            for state in poss_states:\n",
    "                graph.add_node((row, col, state))\n",
    "\n",
    "    for row in range(len(grid)):\n",
    "        for col in range(len(grid[0])):\n",
    "            for state in poss_states:\n",
    "                sides = grid.sides((row, col))\n",
    "                values = grid.sides((row, col), vals=True)\n",
    "                for i in range(len(sides)):\n",
    "                    curr_node = (row, col, state)\n",
    "                    diff = point_diff(sides[i], (row,col))\n",
    "                    prev_dir_value = dir_map[diff]\n",
    "                    new_state = [0, 0, 0, 0]\n",
    "                    prev_speed = max(state)\n",
    "                    if min_travel > 0 and prev_speed < min_travel and state[prev_dir_value] == 0:\n",
    "                        continue\n",
    "                    if state[prev_dir_value] == 0:\n",
    "                        new_state[prev_dir_value] = 1\n",
    "                    elif state[prev_dir_value] < max_travel:\n",
    "                        new_state[prev_dir_value] = state[prev_dir_value] + 1\n",
    "                    else:\n",
    "                        continue\n",
    "                    if is_opposite(current_dir(state), current_dir(new_state)):\n",
    "                        continue\n",
    "                    if sides[i] == end_node and (min_travel == 0 or max(new_state) > min_travel):\n",
    "                        next_node = end_node\n",
    "                    else:\n",
    "                        next_node = (sides[i][0], sides[i][1], tuple(new_state))\n",
    "                    graph.add_edge(curr_node, next_node, weight=values[i])\n",
    "\n",
    "    graph.add_node(start_node)\n",
    "    graph.add_edge(start_node, (0,1, (1,0,0,0)), weight=grid[(0,1)])\n",
    "    graph.add_edge(start_node, (1,0, (0,1,0,0)), weight=grid[(1,0)])\n",
    "    return graph"
   ]
  },
  {
   "cell_type": "code",
   "execution_count": null,
   "id": "88392102",
   "metadata": {},
   "outputs": [],
   "source": [
    "graph1 = make_graph(grid, 0, 3, part_1_states)\n",
    "p = nx.shortest_path(graph1, source=start_node, target=end_node, weight=\"weight\")\n",
    "puzzle.answer_a = nx.path_weight(graph1, p, weight=\"weight\")"
   ]
  },
  {
   "cell_type": "code",
   "execution_count": null,
   "id": "f900fa3f",
   "metadata": {},
   "outputs": [],
   "source": [
    "graph2 = make_graph(grid, 4, 10, part_2_states)\n",
    "p = nx.shortest_path(graph2, source=start_node, target=end_node, weight=\"weight\")\n",
    "puzzle.answer_a = nx.path_weight(graph2, p, weight=\"weight\")"
   ]
  },
  {
   "cell_type": "code",
   "execution_count": null,
   "id": "c528a6ff",
   "metadata": {},
   "outputs": [],
   "source": []
  }
 ],
 "metadata": {
  "kernelspec": {
   "display_name": "Python 3 (ipykernel)",
   "language": "python",
   "name": "python3"
  },
  "language_info": {
   "codemirror_mode": {
    "name": "ipython",
    "version": 3
   },
   "file_extension": ".py",
   "mimetype": "text/x-python",
   "name": "python",
   "nbconvert_exporter": "python",
   "pygments_lexer": "ipython3",
   "version": "3.11.0"
  }
 },
 "nbformat": 4,
 "nbformat_minor": 5
}

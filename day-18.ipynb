{
 "cells": [
  {
   "cell_type": "code",
   "execution_count": 1,
   "id": "897991d2",
   "metadata": {},
   "outputs": [],
   "source": [
    "from aocd.models import Puzzle\n",
    "from skimage.morphology import flood_fill\n",
    "puzzle = Puzzle(year=2023, day=18)\n",
    "data = puzzle.input_data\n",
    "%run helper.ipynb"
   ]
  },
  {
   "cell_type": "code",
   "execution_count": 2,
   "id": "adf5e792",
   "metadata": {},
   "outputs": [],
   "source": [
    "dirs = [r.split(\" \") for r in data.split(\"\\n\")]\n",
    "dirs.append(dirs[0])\n",
    "dirs.append(dirs[1])"
   ]
  },
  {
   "cell_type": "code",
   "execution_count": 10,
   "id": "5a7edcdd",
   "metadata": {},
   "outputs": [],
   "source": [
    "dir_map = {\"R\": Point2D((0, 1)), \"L\": Point2D((0, -1)), \"U\": Point2D((-1, 0)), \"D\": Point2D((1, 0))}\n",
    "dir_list = [\"R\", \"D\", \"L\", \"U\"]\n",
    "\n",
    "def convert_dir(d):\n",
    "    h = d[2].strip(\"()#\")\n",
    "    l = str(int(h[:5], 16))\n",
    "    nd = dir_list[int(h[5])]\n",
    "    return (nd, l)\n",
    "\n",
    "def is_left_turn(dir1, dir2):\n",
    "    return ((dir1 == \"U\" and dir2 == \"L\") or \n",
    "            (dir1 == \"R\" and dir2 == \"U\") or \n",
    "            (dir1 == \"D\" and dir2 == \"R\") or \n",
    "            (dir1 == \"L\" and dir2 == \"D\"))\n",
    "\n",
    "def make_points(dirs):\n",
    "    cur_pos = Point2D((0,0))\n",
    "    path = [cur_pos]\n",
    "    \n",
    "    for i in range(1, len(dirs) - 1):\n",
    "        # Assumes clockwise path\n",
    "        dist_mod = 1 - int(is_left_turn(dirs[i-1][0], dirs[i][0])) - int(is_left_turn(dirs[i][0], dirs[i+1][0]))\n",
    "        dist = int(dirs[i][1]) + dist_mod\n",
    "        cur_pos = cur_pos + dir_map[dirs[i][0]].scale(dist)\n",
    "        path.append(cur_pos)\n",
    "    return path\n",
    "\n",
    "def poly_area(x,y):\n",
    "    return 0.5*np.abs(np.dot(x,np.roll(y,1))-np.dot(y,np.roll(x,1)))"
   ]
  },
  {
   "cell_type": "code",
   "execution_count": 4,
   "id": "00da3624",
   "metadata": {},
   "outputs": [],
   "source": [
    "po = make_points(dirs)\n",
    "x, y = zip(*po)\n",
    "a1 = poly_area(x,y)"
   ]
  },
  {
   "cell_type": "code",
   "execution_count": 5,
   "id": "5a2e182d",
   "metadata": {},
   "outputs": [],
   "source": [
    "puzzle.answer_a = int(a1)"
   ]
  },
  {
   "cell_type": "code",
   "execution_count": 8,
   "id": "0f361645",
   "metadata": {},
   "outputs": [],
   "source": [
    "new_dirs = [convert_dir(d) for d in dirs]\n",
    "po = make_points(new_dirs)\n",
    "x, y = zip(*po)\n",
    "a2 = poly_area(x,y)"
   ]
  },
  {
   "cell_type": "code",
   "execution_count": 9,
   "id": "2211ed19",
   "metadata": {},
   "outputs": [],
   "source": [
    "puzzle.answer_b = int(a2)"
   ]
  },
  {
   "cell_type": "code",
   "execution_count": null,
   "id": "fc14e36c",
   "metadata": {},
   "outputs": [],
   "source": []
  }
 ],
 "metadata": {
  "kernelspec": {
   "display_name": "Python 3 (ipykernel)",
   "language": "python",
   "name": "python3"
  },
  "language_info": {
   "codemirror_mode": {
    "name": "ipython",
    "version": 3
   },
   "file_extension": ".py",
   "mimetype": "text/x-python",
   "name": "python",
   "nbconvert_exporter": "python",
   "pygments_lexer": "ipython3",
   "version": "3.11.0"
  }
 },
 "nbformat": 4,
 "nbformat_minor": 5
}

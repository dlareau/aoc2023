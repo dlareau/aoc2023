{
 "cells": [
  {
   "cell_type": "code",
   "execution_count": 127,
   "id": "46067f6c",
   "metadata": {},
   "outputs": [],
   "source": [
    "from aocd.models import Puzzle\n",
    "puzzle = Puzzle(year=2023, day=13)\n",
    "data = puzzle.input_data\n",
    "%run helper.ipynb"
   ]
  },
  {
   "cell_type": "code",
   "execution_count": 128,
   "id": "e92127e8",
   "metadata": {},
   "outputs": [],
   "source": [
    "grids = data.split(\"\\n\\n\")"
   ]
  },
  {
   "cell_type": "code",
   "execution_count": 129,
   "id": "6370809e",
   "metadata": {},
   "outputs": [],
   "source": [
    "grids = [np.array([list(s) for s in g.split(\"\\n\")]) for g in grids]"
   ]
  },
  {
   "cell_type": "code",
   "execution_count": 154,
   "id": "9e9a76c3",
   "metadata": {},
   "outputs": [],
   "source": [
    "def check_mirror_col(grid, col, num_errors=0):\n",
    "    left = grid[:, :col]\n",
    "    right = grid[:, col:]\n",
    "    right = np.fliplr(right)\n",
    "    l_left = len(left[0])\n",
    "    l_right = len(right[0])\n",
    "    if l_left > l_right:\n",
    "        left = left[:, l_left-l_right:]\n",
    "    if l_right > l_left:\n",
    "        right = right[:, l_right-l_left:]\n",
    "        \n",
    "    return np.count_nonzero(left != right) == num_errors\n",
    "\n",
    "def check_mirror_row(grid, row, num_errors=0):\n",
    "    top = grid[:row]\n",
    "    bot = grid[row:]\n",
    "    bot = np.flipud(bot)\n",
    "    l_top = len(top)\n",
    "    l_bot = len(bot)\n",
    "    if l_top > l_bot:\n",
    "        top = top[l_top-l_bot:]\n",
    "    if l_bot > l_top:\n",
    "        bot = bot[l_bot-l_top:]\n",
    "        \n",
    "    return np.count_nonzero(top != bot) == num_errors\n",
    "\n",
    "def get_mirrors(grid, num_errors=0):\n",
    "    mirror_rows = [row*100 for row in range(1, len(grid)) if check_mirror_row(grid, row, num_errors)]\n",
    "    mirror_cols = [col for col in range(1, len(grid[0])) if check_mirror_col(grid, col, num_errors)]\n",
    "    return (mirror_rows + mirror_cols)[0] # Assumes there will always be exactly 1 reflection"
   ]
  },
  {
   "cell_type": "code",
   "execution_count": 157,
   "id": "3c59d71b",
   "metadata": {},
   "outputs": [],
   "source": [
    "puzzle.answer_a = sum([get_mirrors(g) for g in grids])"
   ]
  },
  {
   "cell_type": "code",
   "execution_count": 160,
   "id": "db99ed11",
   "metadata": {},
   "outputs": [],
   "source": [
    "puzzle.answer_b = sum([get_mirrors(g, 1) for g in grids])"
   ]
  },
  {
   "cell_type": "code",
   "execution_count": null,
   "id": "252b40f4",
   "metadata": {},
   "outputs": [],
   "source": []
  }
 ],
 "metadata": {
  "kernelspec": {
   "display_name": "Python 3 (ipykernel)",
   "language": "python",
   "name": "python3"
  },
  "language_info": {
   "codemirror_mode": {
    "name": "ipython",
    "version": 3
   },
   "file_extension": ".py",
   "mimetype": "text/x-python",
   "name": "python",
   "nbconvert_exporter": "python",
   "pygments_lexer": "ipython3",
   "version": "3.11.0"
  }
 },
 "nbformat": 4,
 "nbformat_minor": 5
}

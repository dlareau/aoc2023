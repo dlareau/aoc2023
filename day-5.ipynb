{
 "cells": [
  {
   "cell_type": "code",
   "execution_count": 42,
   "id": "d68d56cd",
   "metadata": {},
   "outputs": [],
   "source": [
    "from aocd.models import Puzzle\n",
    "import re\n",
    "import itertools\n",
    "puzzle = Puzzle(year=2023, day=5)\n",
    "data = puzzle.input_data"
   ]
  },
  {
   "cell_type": "code",
   "execution_count": 43,
   "id": "d4fb154a",
   "metadata": {},
   "outputs": [],
   "source": [
    "class Mapper(object):\n",
    "    def __init__(self, raw_ranges):\n",
    "        range_lines = [list(map(int,line.split(\" \"))) for line in raw_ranges]\n",
    "        self.ranges = range_lines\n",
    "    \n",
    "    def convert(self, num):\n",
    "        for r in self.ranges:\n",
    "            if num >= r[1] and num < (r[1] + r[2]):\n",
    "                return num - r[1] + r[0]\n",
    "        return num"
   ]
  },
  {
   "cell_type": "code",
   "execution_count": 44,
   "id": "bd88b5ad",
   "metadata": {},
   "outputs": [],
   "source": [
    "sections = data.split(\"\\n\\n\")"
   ]
  },
  {
   "cell_type": "code",
   "execution_count": 45,
   "id": "e707fa19",
   "metadata": {},
   "outputs": [],
   "source": [
    "maps = [Mapper(section.split(\"\\n\")[1:]) for section in sections[1:]]"
   ]
  },
  {
   "cell_type": "code",
   "execution_count": 46,
   "id": "f0cc6edd",
   "metadata": {},
   "outputs": [],
   "source": [
    "seeds = list(map(int,sections[0].split(\" \")[1:]))"
   ]
  },
  {
   "cell_type": "code",
   "execution_count": 48,
   "id": "681b46c4",
   "metadata": {},
   "outputs": [],
   "source": [
    "locations = []\n",
    "for seed in seeds:\n",
    "    current_val = seed\n",
    "    for m in maps:\n",
    "        current_val = m.convert(current_val)\n",
    "    locations.append(current_val)"
   ]
  },
  {
   "cell_type": "code",
   "execution_count": 56,
   "id": "3ca2a425",
   "metadata": {},
   "outputs": [],
   "source": [
    "puzzle.answer_a = min(locations)"
   ]
  },
  {
   "cell_type": "code",
   "execution_count": null,
   "id": "56d59bcc",
   "metadata": {},
   "outputs": [],
   "source": [
    "max_num = 10000000000\n",
    "class RangeMapper(object):\n",
    "    def __init__(self, raw_ranges):\n",
    "        range_lines = [list(map(int,line.split(\" \"))) for line in raw_ranges]\n",
    "        self.ranges = range_lines\n",
    "    \n",
    "    def convert(self, num):\n",
    "        for r in self.ranges:\n",
    "            if num >= r[1] and num < (r[1] + r[2]):\n",
    "                return num - r[1] + r[0]\n",
    "        return num\n"
   ]
  }
 ],
 "metadata": {
  "kernelspec": {
   "display_name": "Python 3 (ipykernel)",
   "language": "python",
   "name": "python3"
  },
  "language_info": {
   "codemirror_mode": {
    "name": "ipython",
    "version": 3
   },
   "file_extension": ".py",
   "mimetype": "text/x-python",
   "name": "python",
   "nbconvert_exporter": "python",
   "pygments_lexer": "ipython3",
   "version": "3.11.0"
  }
 },
 "nbformat": 4,
 "nbformat_minor": 5
}

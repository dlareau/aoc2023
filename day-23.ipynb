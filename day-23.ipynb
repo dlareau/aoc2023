{
 "cells": [
  {
   "cell_type": "code",
   "execution_count": 72,
   "id": "d705cb60",
   "metadata": {},
   "outputs": [],
   "source": [
    "from aocd.models import Puzzle\n",
    "puzzle = Puzzle(year=2023, day=23)\n",
    "data = puzzle.input_data\n",
    "%run helper.ipynb"
   ]
  },
  {
   "cell_type": "code",
   "execution_count": 59,
   "id": "8d888e1a",
   "metadata": {},
   "outputs": [],
   "source": [
    "data = \"\"\"#.#####################\n",
    "#.......#########...###\n",
    "#######.#########.#.###\n",
    "###.....#.>.>.###.#.###\n",
    "###v#####.#v#.###.#.###\n",
    "###.>...#.#.#.....#...#\n",
    "###v###.#.#.#########.#\n",
    "###...#.#.#.......#...#\n",
    "#####.#.#.#######.#.###\n",
    "#.....#.#.#.......#...#\n",
    "#.#####.#.#.#########v#\n",
    "#.#...#...#...###...>.#\n",
    "#.#.#v#######v###.###v#\n",
    "#...#.>.#...>.>.#.###.#\n",
    "#####v#.#.###v#.#.###.#\n",
    "#.....#...#...#.#.#...#\n",
    "#.#########.###.#.#.###\n",
    "#...###...#...#...#.###\n",
    "###.###.#.###v#####v###\n",
    "#...#...#.#.>.>.#.>.###\n",
    "#.###.###.#.###.#.#v###\n",
    "#.....###...###...#...#\n",
    "#####################.#\"\"\""
   ]
  },
  {
   "cell_type": "code",
   "execution_count": 73,
   "id": "d0a42725",
   "metadata": {},
   "outputs": [],
   "source": [
    "grid = Grid(data, conv_func=str)"
   ]
  },
  {
   "cell_type": "code",
   "execution_count": 51,
   "id": "e6db5161",
   "metadata": {},
   "outputs": [],
   "source": [
    "def hike(grid, place, steps):\n",
    "#     print(place, steps)\n",
    "    sides = grid.sides(place)\n",
    "    longest = 0\n",
    "    best_path = []\n",
    "    if place[0] == (len(grid)-1):\n",
    "#         print(\"end?\")\n",
    "        return [place]\n",
    "    for s in sides:\n",
    "        if s in steps:\n",
    "            continue\n",
    "        if grid[s] == \".\":\n",
    "            result = hike(grid, s, steps + [s])\n",
    "            if len(result) == 0:\n",
    "                continue\n",
    "            if len(result) > longest:\n",
    "                best_path = result\n",
    "                longest = len(result)\n",
    "        elif grid[s] in \"<>^v\":\n",
    "            valid = False\n",
    "            diff = tuple(np.subtract(s, place))\n",
    "            if diff == (0, 1) and grid[s] == \">\":\n",
    "                valid = True\n",
    "            elif diff == (0, -1) and grid[s] == \"<\":\n",
    "                valid = True\n",
    "            elif diff == (1, 0) and grid[s] == \"v\":\n",
    "                valid = True\n",
    "            elif diff == (-1, 0) and grid[s] == \"\":\n",
    "                valid = True\n",
    "            if valid:\n",
    "                new_pos = tuple(np.add(s, diff))\n",
    "                result = hike(grid, new_pos, steps + [s, new_pos])\n",
    "                if len(result) == 0:\n",
    "                    continue\n",
    "                if len(result) > longest:\n",
    "                    result += [s]\n",
    "                    best_path = result\n",
    "                    longest = len(result)\n",
    "    if longest == 0:\n",
    "        return []\n",
    "    return best_path + [place]"
   ]
  },
  {
   "cell_type": "code",
   "execution_count": 52,
   "id": "eef23744",
   "metadata": {},
   "outputs": [],
   "source": [
    "result = hike(grid, (0, 1), [(0, 1)])"
   ]
  },
  {
   "cell_type": "code",
   "execution_count": 54,
   "id": "6aa83149",
   "metadata": {},
   "outputs": [],
   "source": [
    "puzzle.answer_a = len(result) - 1"
   ]
  },
  {
   "cell_type": "code",
   "execution_count": 74,
   "id": "866cb024",
   "metadata": {},
   "outputs": [],
   "source": [
    "def hike2(grid, place, steps):\n",
    "#     print(place, steps)\n",
    "    sides = grid.sides(place)\n",
    "    longest = 0\n",
    "    best_path = []\n",
    "    if place[0] == (len(grid)-1):\n",
    "#         print(\"end?\")\n",
    "        return [place]\n",
    "    for s in sides:\n",
    "        if s in steps:\n",
    "            continue\n",
    "        if grid[s] != \"#\":\n",
    "            result = hike2(grid, s, steps + [s])\n",
    "            if len(result) == 0:\n",
    "                continue\n",
    "            if len(result) > longest:\n",
    "                best_path = result\n",
    "                longest = len(result)\n",
    "    if longest == 0:\n",
    "        return []\n",
    "    return best_path + [place]"
   ]
  },
  {
   "cell_type": "code",
   "execution_count": 75,
   "id": "6760d68c",
   "metadata": {},
   "outputs": [
    {
     "ename": "RecursionError",
     "evalue": "maximum recursion depth exceeded in comparison",
     "output_type": "error",
     "traceback": [
      "\u001b[0;31m---------------------------------------------------------------------------\u001b[0m",
      "\u001b[0;31mRecursionError\u001b[0m                            Traceback (most recent call last)",
      "Cell \u001b[0;32mIn[75], line 1\u001b[0m\n\u001b[0;32m----> 1\u001b[0m result2 \u001b[38;5;241m=\u001b[39m \u001b[43mhike2\u001b[49m\u001b[43m(\u001b[49m\u001b[43mgrid\u001b[49m\u001b[43m,\u001b[49m\u001b[43m \u001b[49m\u001b[43m(\u001b[49m\u001b[38;5;241;43m0\u001b[39;49m\u001b[43m,\u001b[49m\u001b[43m \u001b[49m\u001b[38;5;241;43m1\u001b[39;49m\u001b[43m)\u001b[49m\u001b[43m,\u001b[49m\u001b[43m \u001b[49m\u001b[43m[\u001b[49m\u001b[43m(\u001b[49m\u001b[38;5;241;43m0\u001b[39;49m\u001b[43m,\u001b[49m\u001b[43m \u001b[49m\u001b[38;5;241;43m1\u001b[39;49m\u001b[43m)\u001b[49m\u001b[43m]\u001b[49m\u001b[43m)\u001b[49m\n",
      "Cell \u001b[0;32mIn[74], line 13\u001b[0m, in \u001b[0;36mhike2\u001b[0;34m(grid, place, steps)\u001b[0m\n\u001b[1;32m     11\u001b[0m     \u001b[38;5;28;01mcontinue\u001b[39;00m\n\u001b[1;32m     12\u001b[0m \u001b[38;5;28;01mif\u001b[39;00m grid[s] \u001b[38;5;241m!=\u001b[39m \u001b[38;5;124m\"\u001b[39m\u001b[38;5;124m#\u001b[39m\u001b[38;5;124m\"\u001b[39m:\n\u001b[0;32m---> 13\u001b[0m     result \u001b[38;5;241m=\u001b[39m \u001b[43mhike2\u001b[49m\u001b[43m(\u001b[49m\u001b[43mgrid\u001b[49m\u001b[43m,\u001b[49m\u001b[43m \u001b[49m\u001b[43ms\u001b[49m\u001b[43m,\u001b[49m\u001b[43m \u001b[49m\u001b[43msteps\u001b[49m\u001b[43m \u001b[49m\u001b[38;5;241;43m+\u001b[39;49m\u001b[43m \u001b[49m\u001b[43m[\u001b[49m\u001b[43ms\u001b[49m\u001b[43m]\u001b[49m\u001b[43m)\u001b[49m\n\u001b[1;32m     14\u001b[0m     \u001b[38;5;28;01mif\u001b[39;00m \u001b[38;5;28mlen\u001b[39m(result) \u001b[38;5;241m==\u001b[39m \u001b[38;5;241m0\u001b[39m:\n\u001b[1;32m     15\u001b[0m         \u001b[38;5;28;01mcontinue\u001b[39;00m\n",
      "Cell \u001b[0;32mIn[74], line 13\u001b[0m, in \u001b[0;36mhike2\u001b[0;34m(grid, place, steps)\u001b[0m\n\u001b[1;32m     11\u001b[0m     \u001b[38;5;28;01mcontinue\u001b[39;00m\n\u001b[1;32m     12\u001b[0m \u001b[38;5;28;01mif\u001b[39;00m grid[s] \u001b[38;5;241m!=\u001b[39m \u001b[38;5;124m\"\u001b[39m\u001b[38;5;124m#\u001b[39m\u001b[38;5;124m\"\u001b[39m:\n\u001b[0;32m---> 13\u001b[0m     result \u001b[38;5;241m=\u001b[39m \u001b[43mhike2\u001b[49m\u001b[43m(\u001b[49m\u001b[43mgrid\u001b[49m\u001b[43m,\u001b[49m\u001b[43m \u001b[49m\u001b[43ms\u001b[49m\u001b[43m,\u001b[49m\u001b[43m \u001b[49m\u001b[43msteps\u001b[49m\u001b[43m \u001b[49m\u001b[38;5;241;43m+\u001b[39;49m\u001b[43m \u001b[49m\u001b[43m[\u001b[49m\u001b[43ms\u001b[49m\u001b[43m]\u001b[49m\u001b[43m)\u001b[49m\n\u001b[1;32m     14\u001b[0m     \u001b[38;5;28;01mif\u001b[39;00m \u001b[38;5;28mlen\u001b[39m(result) \u001b[38;5;241m==\u001b[39m \u001b[38;5;241m0\u001b[39m:\n\u001b[1;32m     15\u001b[0m         \u001b[38;5;28;01mcontinue\u001b[39;00m\n",
      "    \u001b[0;31m[... skipping similar frames: hike2 at line 13 (2969 times)]\u001b[0m\n",
      "Cell \u001b[0;32mIn[74], line 13\u001b[0m, in \u001b[0;36mhike2\u001b[0;34m(grid, place, steps)\u001b[0m\n\u001b[1;32m     11\u001b[0m     \u001b[38;5;28;01mcontinue\u001b[39;00m\n\u001b[1;32m     12\u001b[0m \u001b[38;5;28;01mif\u001b[39;00m grid[s] \u001b[38;5;241m!=\u001b[39m \u001b[38;5;124m\"\u001b[39m\u001b[38;5;124m#\u001b[39m\u001b[38;5;124m\"\u001b[39m:\n\u001b[0;32m---> 13\u001b[0m     result \u001b[38;5;241m=\u001b[39m \u001b[43mhike2\u001b[49m\u001b[43m(\u001b[49m\u001b[43mgrid\u001b[49m\u001b[43m,\u001b[49m\u001b[43m \u001b[49m\u001b[43ms\u001b[49m\u001b[43m,\u001b[49m\u001b[43m \u001b[49m\u001b[43msteps\u001b[49m\u001b[43m \u001b[49m\u001b[38;5;241;43m+\u001b[39;49m\u001b[43m \u001b[49m\u001b[43m[\u001b[49m\u001b[43ms\u001b[49m\u001b[43m]\u001b[49m\u001b[43m)\u001b[49m\n\u001b[1;32m     14\u001b[0m     \u001b[38;5;28;01mif\u001b[39;00m \u001b[38;5;28mlen\u001b[39m(result) \u001b[38;5;241m==\u001b[39m \u001b[38;5;241m0\u001b[39m:\n\u001b[1;32m     15\u001b[0m         \u001b[38;5;28;01mcontinue\u001b[39;00m\n",
      "Cell \u001b[0;32mIn[74], line 10\u001b[0m, in \u001b[0;36mhike2\u001b[0;34m(grid, place, steps)\u001b[0m\n\u001b[1;32m      8\u001b[0m     \u001b[38;5;28;01mreturn\u001b[39;00m [place]\n\u001b[1;32m      9\u001b[0m \u001b[38;5;28;01mfor\u001b[39;00m s \u001b[38;5;129;01min\u001b[39;00m sides:\n\u001b[0;32m---> 10\u001b[0m     \u001b[38;5;28;01mif\u001b[39;00m \u001b[43ms\u001b[49m\u001b[43m \u001b[49m\u001b[38;5;129;43;01min\u001b[39;49;00m\u001b[43m \u001b[49m\u001b[43msteps\u001b[49m:\n\u001b[1;32m     11\u001b[0m         \u001b[38;5;28;01mcontinue\u001b[39;00m\n\u001b[1;32m     12\u001b[0m     \u001b[38;5;28;01mif\u001b[39;00m grid[s] \u001b[38;5;241m!=\u001b[39m \u001b[38;5;124m\"\u001b[39m\u001b[38;5;124m#\u001b[39m\u001b[38;5;124m\"\u001b[39m:\n",
      "\u001b[0;31mRecursionError\u001b[0m: maximum recursion depth exceeded in comparison"
     ]
    }
   ],
   "source": [
    "result2 = hike2(grid, (0, 1), [(0, 1)])"
   ]
  },
  {
   "cell_type": "code",
   "execution_count": 71,
   "id": "e532e84e",
   "metadata": {},
   "outputs": [
    {
     "data": {
      "text/plain": [
       "154"
      ]
     },
     "execution_count": 71,
     "metadata": {},
     "output_type": "execute_result"
    }
   ],
   "source": [
    "len(result2)-1"
   ]
  },
  {
   "cell_type": "code",
   "execution_count": null,
   "id": "5ee3bdce",
   "metadata": {},
   "outputs": [],
   "source": []
  }
 ],
 "metadata": {
  "kernelspec": {
   "display_name": "Python 3 (ipykernel)",
   "language": "python",
   "name": "python3"
  },
  "language_info": {
   "codemirror_mode": {
    "name": "ipython",
    "version": 3
   },
   "file_extension": ".py",
   "mimetype": "text/x-python",
   "name": "python",
   "nbconvert_exporter": "python",
   "pygments_lexer": "ipython3",
   "version": "3.11.0"
  }
 },
 "nbformat": 4,
 "nbformat_minor": 5
}

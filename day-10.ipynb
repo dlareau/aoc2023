{
 "cells": [
  {
   "cell_type": "code",
   "execution_count": 12,
   "id": "c7555ec8",
   "metadata": {},
   "outputs": [],
   "source": [
    "from aocd.models import Puzzle\n",
    "puzzle = Puzzle(year=2023, day=10)\n",
    "from skimage.morphology import flood_fill\n",
    "import numpy as np\n",
    "data = puzzle.input_data"
   ]
  },
  {
   "cell_type": "code",
   "execution_count": 26,
   "id": "17a35212",
   "metadata": {},
   "outputs": [],
   "source": [
    "grid = [list(x) for x in data.split(\"\\n\")]"
   ]
  },
  {
   "cell_type": "code",
   "execution_count": 3,
   "id": "978a5a0a",
   "metadata": {},
   "outputs": [],
   "source": [
    "def next_pos(grid, pos, prev_pos):\n",
    "    tile = grid[pos[0]][pos[1]]\n",
    "    if tile == \"|\":\n",
    "        if pos[0] == prev_pos[0]-1:\n",
    "            return (pos[0]-1, pos[1])\n",
    "        elif pos[0] == prev_pos[0]+1:\n",
    "            return (pos[0]+1, pos[1])\n",
    "    if tile == \"-\":\n",
    "        if pos[1] == prev_pos[1]-1:\n",
    "            return (pos[0], pos[1]-1)\n",
    "        elif pos[1] == prev_pos[1]+1:\n",
    "            return (pos[0], pos[1]+1)\n",
    "    if tile == \"L\":\n",
    "        if pos[0] == prev_pos[0]+1:\n",
    "            return (pos[0], pos[1]+1)\n",
    "        elif pos[1] == prev_pos[1]-1:\n",
    "            return (pos[0]-1, pos[1])\n",
    "    if tile == \"J\":\n",
    "        if pos[0] == prev_pos[0]+1:\n",
    "            return (pos[0], pos[1]-1)\n",
    "        elif pos[1] == prev_pos[1]+1:\n",
    "            return (pos[0]-1, pos[1])\n",
    "    if tile == \"7\":\n",
    "        if pos[0] == prev_pos[0]-1:\n",
    "            return (pos[0], pos[1]-1)\n",
    "        elif pos[1] == prev_pos[1]+1:\n",
    "            return (pos[0]+1, pos[1])\n",
    "    if tile == \"F\":\n",
    "        if pos[0] == prev_pos[0]-1:\n",
    "            return (pos[0], pos[1]+1)\n",
    "        elif pos[1] == prev_pos[1]-1:\n",
    "            return (pos[0]+1, pos[1])\n",
    "    if tile == \"S\":\n",
    "        return -1"
   ]
  },
  {
   "cell_type": "code",
   "execution_count": 4,
   "id": "213c7530",
   "metadata": {},
   "outputs": [],
   "source": [
    "start = (data.index(\"S\") // (len(grid[0]) + 1), data.index(\"S\") % (len(grid[0]) + 1))\n",
    "pos = (start[0] + 1, start[1])\n",
    "prev_pos = start\n",
    "\n",
    "for i in range(100000):\n",
    "    temp = pos\n",
    "    pos = next_pos(grid, pos, prev_pos)\n",
    "    prev_pos = temp\n",
    "    if pos == -1:\n",
    "        break\n",
    "        \n",
    "puzzle.answer_a = int((i + 1)/2)"
   ]
  },
  {
   "cell_type": "code",
   "execution_count": 12,
   "id": "054459ff",
   "metadata": {},
   "outputs": [],
   "source": []
  },
  {
   "cell_type": "code",
   "execution_count": 27,
   "id": "f2015237",
   "metadata": {},
   "outputs": [],
   "source": [
    "shapes = {\n",
    "    \"-\": [[0,0,0], [1,1,1], [0,0,0]],\n",
    "    \"|\": [[0,1,0], [0,1,0], [0,1,0]],\n",
    "    \"L\": [[0,1,0], [0,1,1], [0,0,0]],\n",
    "    \"J\": [[0,1,0], [1,1,0], [0,0,0]],\n",
    "    \"7\": [[0,0,0], [1,1,0], [0,1,0]],\n",
    "    \"F\": [[0,0,0], [0,1,1], [0,1,0]],\n",
    "    \"S\": [[0,1,0], [0,2,0], [0,1,0]],\n",
    "    \".\": [[0,0,0], [0,0,0], [0,0,0]],\n",
    "}\n",
    "\n",
    "def expand(grid):\n",
    "    new_grid = []\n",
    "    for row in grid:\n",
    "        top = []\n",
    "        mid = []\n",
    "        bot = []\n",
    "        for tile in row:\n",
    "            top += shapes[tile][0]\n",
    "            mid += shapes[tile][1]\n",
    "            bot += shapes[tile][2]\n",
    "        new_grid += [top, mid, bot]\n",
    "    return new_grid\n",
    "\n",
    "def clean(grid):\n",
    "    start = (data.index(\"S\") // (len(grid[0]) + 1), data.index(\"S\") % (len(grid[0]) + 1))\n",
    "    pos = (start[0] + 1, start[1])\n",
    "    prev_pos = start\n",
    "\n",
    "    pipe_coords = []\n",
    "\n",
    "    for i in range(100000):\n",
    "        temp = pos\n",
    "        pipe_coords.append(pos)\n",
    "        pos = next_pos(grid, pos, prev_pos)\n",
    "        prev_pos = temp\n",
    "        if pos == -1:\n",
    "            break\n",
    "    \n",
    "    for row in range(len(grid)):\n",
    "        for col in range(len(grid[0])):\n",
    "            if (row, col) not in pipe_coords:\n",
    "                grid[row][col] = \".\"\n",
    "    return grid"
   ]
  },
  {
   "cell_type": "code",
   "execution_count": 30,
   "id": "47640ba9",
   "metadata": {},
   "outputs": [],
   "source": [
    "clean_grid = clean(grid)"
   ]
  },
  {
   "cell_type": "code",
   "execution_count": 32,
   "id": "8269aafa",
   "metadata": {},
   "outputs": [],
   "source": [
    "clean_grid = clean(grid)\n",
    "big_grid = expand(clean_grid)\n",
    "flood_grid = np.array(big_grid)\n",
    "start = np.where(flood_grid == 2)\n",
    "filled_grid = flood_fill(flood_grid, (start[0][0], start[1][0] - 1), 3)"
   ]
  },
  {
   "cell_type": "code",
   "execution_count": 33,
   "id": "de329a0c",
   "metadata": {},
   "outputs": [],
   "source": [
    "filled_count = 0\n",
    "for row in range(len(filled_grid)):\n",
    "    new_row = []\n",
    "    for col in range(len(filled_grid[0])):\n",
    "        if (row-1)%3 == 0 and (col-1)%3 == 0 and filled_grid[row][col] == 3:\n",
    "            filled_count += 1\n",
    "\n",
    "puzzle.answer_b = filled_count"
   ]
  },
  {
   "cell_type": "code",
   "execution_count": null,
   "id": "358a5320",
   "metadata": {},
   "outputs": [],
   "source": []
  }
 ],
 "metadata": {
  "kernelspec": {
   "display_name": "Python 3 (ipykernel)",
   "language": "python",
   "name": "python3"
  },
  "language_info": {
   "codemirror_mode": {
    "name": "ipython",
    "version": 3
   },
   "file_extension": ".py",
   "mimetype": "text/x-python",
   "name": "python",
   "nbconvert_exporter": "python",
   "pygments_lexer": "ipython3",
   "version": "3.11.0"
  }
 },
 "nbformat": 4,
 "nbformat_minor": 5
}

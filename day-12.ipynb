{
 "cells": [
  {
   "cell_type": "code",
   "execution_count": 5,
   "id": "39df06e5",
   "metadata": {},
   "outputs": [],
   "source": [
    "from aocd.models import Puzzle\n",
    "import itertools\n",
    "from functools import cache, partial\n",
    "from multiprocessing import Pool\n",
    "import re\n",
    "puzzle = Puzzle(year=2023, day=12)\n",
    "data = puzzle.input_data\n",
    "%run helper.ipynb\n",
    "# data = \"\"\"???.### 1,1,3\n",
    "# .??..??...?##. 1,1,3\n",
    "# ?#?#?#?#?#?#?#? 1,3,1,6\n",
    "# ????.#...#... 4,1,1\n",
    "# ????.######..#####. 1,6,5\n",
    "# ?###???????? 3,2,1\"\"\""
   ]
  },
  {
   "cell_type": "code",
   "execution_count": 10,
   "id": "68d91171",
   "metadata": {},
   "outputs": [],
   "source": [
    "lookup = [\".\",\"#\"]\n",
    "\n",
    "PRINT = False\n",
    "\n",
    "def cprint(*args, **kwargs):\n",
    "    if PRINT:\n",
    "        print(*args, **kwargs)\n",
    "\n",
    "def find(s, ch):\n",
    "    return [i for i, ltr in enumerate(s) if ltr == ch]\n",
    "\n",
    "def min_len(groups):\n",
    "    return sum(groups) + len(groups) - 1\n",
    "\n",
    "@cache\n",
    "def solve_single(spring_line, groups):\n",
    "    if len(groups) == 0:\n",
    "        if \"#\" not in spring_line:\n",
    "            return 1\n",
    "        else:\n",
    "            return 0\n",
    "    \n",
    "    diff = len(spring_line) - min_len(groups)\n",
    "    return solve_single_helper(spring_line, groups, diff, \"\")\n",
    "\n",
    "def solve_simple()\n",
    "\n",
    "@cache\n",
    "def solve_single_helper(spring_line, groups, diff, current):\n",
    "    if len(groups) == 0:\n",
    "        if len(spring_line) == len(current):\n",
    "            cprint(current)\n",
    "            return 1\n",
    "        return 0\n",
    "    total = 0\n",
    "    for i in range(diff+1):\n",
    "        s = current + \".\"*i + \"#\"*groups[0]\n",
    "        if len(groups) == 1:\n",
    "            s = s + \".\" * (diff - i)\n",
    "        else:\n",
    "            s = s + \".\"\n",
    "        indexes = find(spring_line[:len(s)], \"#\")\n",
    "        if all([s[i] == \"#\" for i in indexes]):\n",
    "            c = solve_single_helper(spring_line, groups[1:], diff-i, s)\n",
    "            total += c\n",
    "    return total\n",
    "\n",
    "def count_poss(bad_springs, groups, depth):\n",
    "    spacing = \"    \" * depth\n",
    "    cprint(spacing, \"Args: \", bad_springs, groups)\n",
    "    if len(groups) == 0:\n",
    "        if len(bad_springs) != 0:\n",
    "            if \"#\" in \"\".join(bad_springs):\n",
    "                cprint(spacing, \"Zero failure\")\n",
    "                return 0\n",
    "            else:\n",
    "                return 1\n",
    "        else:\n",
    "            return 1\n",
    "    else:\n",
    "        if len(bad_springs) == 0:\n",
    "            return 0\n",
    "    if min_len(groups) > sum([len(b)+1 for b in bad_springs]):\n",
    "        cprint(spacing, \"Not enough\")\n",
    "        return 0\n",
    "    total = 0\n",
    "    for i in range(len(groups)+1):\n",
    "        if min_len(groups[:i]) > len(bad_springs[0]):\n",
    "            cprint(spacing, f\"Stopping on {i} due to length\")\n",
    "            break\n",
    "        cprint(spacing, \"  Trying\" + str((bad_springs[0], groups[:i])))\n",
    "        remaining_count = count_poss(bad_springs[1:], groups[i:], depth+1)\n",
    "        if remaining_count != 0:\n",
    "            cprint(spacing, \"solving\", bad_springs[0], groups[:i])\n",
    "            single = solve_single(bad_springs[0], groups[:i])\n",
    "            total += (single * remaining_count)\n",
    "    return total\n",
    "    \n",
    "class Row(object):\n",
    "    def __init__(self, s, expand=False):\n",
    "        self.original = s\n",
    "        springs, groups = s.split(\" \")\n",
    "        self.springs = springs\n",
    "        self.groups = list(map(int, groups.split(\",\")))\n",
    "        if expand:\n",
    "            self.springs = \"?\".join([self.springs] * 5)\n",
    "            self.groups = self.groups * 5\n",
    "        self.bad_springs = re.findall(r\"[#?]+\", self.springs)\n",
    "    def count(self):\n",
    "        return count_poss(tuple(self.bad_springs), tuple(self.groups), 0)"
   ]
  },
  {
   "cell_type": "code",
   "execution_count": 11,
   "id": "5642f3c6",
   "metadata": {},
   "outputs": [],
   "source": [
    "rs = [Row(s).count() for s in data.split(\"\\n\")]"
   ]
  },
  {
   "cell_type": "code",
   "execution_count": 12,
   "id": "4f7db35d",
   "metadata": {},
   "outputs": [],
   "source": [
    "puzzle.answer_a = sum(rs)"
   ]
  },
  {
   "cell_type": "code",
   "execution_count": 13,
   "id": "84a13309",
   "metadata": {},
   "outputs": [],
   "source": [
    "rs2 = [Row(s, True) for s in data.split(\"\\n\")]"
   ]
  },
  {
   "cell_type": "code",
   "execution_count": null,
   "id": "1e5d5810",
   "metadata": {},
   "outputs": [],
   "source": [
    "for i in range(len(rs2)):\n",
    "    c = count_poss(tuple(rs2[i].bad_springs), tuple(rs2[i].groups), 0)\n",
    "    print(rs2[i].original, \"=====\", c)"
   ]
  },
  {
   "cell_type": "code",
   "execution_count": 150,
   "id": "2f2cff86",
   "metadata": {},
   "outputs": [
    {
     "data": {
      "text/plain": [
       "4"
      ]
     },
     "execution_count": 150,
     "metadata": {},
     "output_type": "execute_result"
    }
   ],
   "source": [
    "count_poss((\"??\", \"???#?\", \"?\"), (1,4), 0)"
   ]
  },
  {
   "cell_type": "code",
   "execution_count": null,
   "id": "c4329596",
   "metadata": {},
   "outputs": [],
   "source": []
  }
 ],
 "metadata": {
  "kernelspec": {
   "display_name": "Python 3 (ipykernel)",
   "language": "python",
   "name": "python3"
  },
  "language_info": {
   "codemirror_mode": {
    "name": "ipython",
    "version": 3
   },
   "file_extension": ".py",
   "mimetype": "text/x-python",
   "name": "python",
   "nbconvert_exporter": "python",
   "pygments_lexer": "ipython3",
   "version": "3.11.0"
  }
 },
 "nbformat": 4,
 "nbformat_minor": 5
}

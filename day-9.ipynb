{
 "cells": [
  {
   "cell_type": "code",
   "execution_count": 29,
   "id": "877b3e35",
   "metadata": {},
   "outputs": [],
   "source": [
    "from aocd.models import Puzzle\n",
    "puzzle = Puzzle(year=2023, day=9)\n",
    "data = puzzle.input_data"
   ]
  },
  {
   "cell_type": "code",
   "execution_count": 30,
   "id": "724d837b",
   "metadata": {},
   "outputs": [],
   "source": [
    "def extrapolate(sequence):\n",
    "    if all(i == sequence[0] for i in sequence):\n",
    "        return sequence[0]\n",
    "    diffs = [sequence[i+1] - sequence[i] for i in range(len(sequence) - 1)]\n",
    "    return sequence[-1] + extrapolate(diffs)"
   ]
  },
  {
   "cell_type": "code",
   "execution_count": 31,
   "id": "d1d89cbf",
   "metadata": {},
   "outputs": [],
   "source": [
    "seqs = [list(map(int, seq.split(\" \"))) for seq in data.split(\"\\n\")]"
   ]
  },
  {
   "cell_type": "code",
   "execution_count": 32,
   "id": "4bafd60d",
   "metadata": {},
   "outputs": [],
   "source": [
    "next_terms = [extrapolate(seq) for seq in seqs]"
   ]
  },
  {
   "cell_type": "code",
   "execution_count": 33,
   "id": "869cae28",
   "metadata": {},
   "outputs": [],
   "source": [
    "puzzle.answer_a = sum(next_terms)"
   ]
  },
  {
   "cell_type": "code",
   "execution_count": 34,
   "id": "299868b3",
   "metadata": {},
   "outputs": [],
   "source": [
    "def extrapolate_back(sequence):\n",
    "    count = Counter(sequence)\n",
    "    if all(i == sequence[0] for i in sequence):\n",
    "        return sequence[0]\n",
    "    diffs = [sequence[i+1] - sequence[i] for i in range(len(sequence) - 1)]\n",
    "    return sequence[0] - extrapolate_back(diffs)"
   ]
  },
  {
   "cell_type": "code",
   "execution_count": 35,
   "id": "b1d88b2e",
   "metadata": {},
   "outputs": [],
   "source": [
    "prev_terms = [extrapolate_back(seq) for seq in seqs]"
   ]
  },
  {
   "cell_type": "code",
   "execution_count": 36,
   "id": "175c3aca",
   "metadata": {},
   "outputs": [],
   "source": [
    "puzzle.answer_b = sum(prev_terms)"
   ]
  }
 ],
 "metadata": {
  "kernelspec": {
   "display_name": "Python 3 (ipykernel)",
   "language": "python",
   "name": "python3"
  },
  "language_info": {
   "codemirror_mode": {
    "name": "ipython",
    "version": 3
   },
   "file_extension": ".py",
   "mimetype": "text/x-python",
   "name": "python",
   "nbconvert_exporter": "python",
   "pygments_lexer": "ipython3",
   "version": "3.11.0"
  }
 },
 "nbformat": 4,
 "nbformat_minor": 5
}

{
 "cells": [
  {
   "cell_type": "code",
   "execution_count": 1,
   "id": "2d5bc252",
   "metadata": {},
   "outputs": [],
   "source": [
    "from aocd.models import Puzzle\n",
    "from math import lcm\n",
    "puzzle = Puzzle(year=2023, day=8)\n",
    "data = puzzle.input_data"
   ]
  },
  {
   "cell_type": "code",
   "execution_count": 2,
   "id": "38abba75",
   "metadata": {},
   "outputs": [],
   "source": [
    "part_1, part_2 = data.split(\"\\n\\n\")"
   ]
  },
  {
   "cell_type": "code",
   "execution_count": 3,
   "id": "222e62fb",
   "metadata": {},
   "outputs": [],
   "source": [
    "nodes = {line.split(\" = \")[0]: line.split(\" = \")[1].strip(\"()\").split(\", \") for line in part_2.split(\"\\n\")}"
   ]
  },
  {
   "cell_type": "code",
   "execution_count": 4,
   "id": "3f3dc8b6",
   "metadata": {},
   "outputs": [],
   "source": [
    "current_node = \"AAA\"\n",
    "num_steps = 0\n",
    "while(current_node != \"ZZZ\"):\n",
    "    step = part_1[num_steps%len(part_1)]\n",
    "    if step == \"L\":\n",
    "        current_node = nodes[current_node][0]\n",
    "    else:\n",
    "        current_node = nodes[current_node][1]\n",
    "    num_steps += 1\n",
    "    \n",
    "puzzle.answer_a = num_steps"
   ]
  },
  {
   "cell_type": "code",
   "execution_count": 5,
   "id": "d3ca611f",
   "metadata": {},
   "outputs": [],
   "source": [
    "current_nodes = [node for node in nodes.keys() if node[2] == \"A\"]\n",
    "num_steps = 0\n",
    "hit = [0] * len(current_nodes)\n",
    "while(not all([h != 0 for h in hit])):\n",
    "    step = part_1[num_steps%len(part_1)]\n",
    "    current_nodes = [nodes[node][0] if step == \"L\" else nodes[node][1] for node in current_nodes]\n",
    "    num_steps += 1\n",
    "    ended = [node[2] == \"Z\" for node in current_nodes]\n",
    "    for i in range(len(ended)):\n",
    "        if ended[i] and hit[i] == 0:\n",
    "            hit[i] = num_steps\n",
    "\n",
    "# This shouldn't always work, but because of the specific puzzle inputs it does\n",
    "puzzle.answer_b = lcm(*hit)"
   ]
  }
 ],
 "metadata": {
  "kernelspec": {
   "display_name": "Python 3 (ipykernel)",
   "language": "python",
   "name": "python3"
  },
  "language_info": {
   "codemirror_mode": {
    "name": "ipython",
    "version": 3
   },
   "file_extension": ".py",
   "mimetype": "text/x-python",
   "name": "python",
   "nbconvert_exporter": "python",
   "pygments_lexer": "ipython3",
   "version": "3.11.0"
  }
 },
 "nbformat": 4,
 "nbformat_minor": 5
}

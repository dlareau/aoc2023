{
 "cells": [
  {
   "cell_type": "code",
   "execution_count": 79,
   "id": "b6d4c09c",
   "metadata": {},
   "outputs": [],
   "source": [
    "from aocd.models import Puzzle\n",
    "puzzle = Puzzle(year=2023, day=11)\n",
    "import numpy as np\n",
    "import itertools\n",
    "data = puzzle.input_data\n",
    "%run helper.ipynb"
   ]
  },
  {
   "cell_type": "code",
   "execution_count": 33,
   "id": "7eef5622",
   "metadata": {},
   "outputs": [],
   "source": [
    "grid = np.array([list(x) for x in data.split(\"\\n\")])"
   ]
  },
  {
   "cell_type": "code",
   "execution_count": 36,
   "id": "5ee75f69",
   "metadata": {},
   "outputs": [],
   "source": [
    "grid = np.array([list(x) for x in data.split(\"\\n\")])\n",
    "num_inserted_rows = 0\n",
    "for i in range(len(grid)):\n",
    "    if all(grid[i + num_inserted_rows] == \".\"):\n",
    "        grid = np.insert(grid, i + num_inserted_rows, grid[i + num_inserted_rows], 0)\n",
    "        num_inserted_rows += 1\n",
    "        \n",
    "num_inserted_cols = 0\n",
    "for i in range(len(grid[0])):\n",
    "    if all(grid[:, i + num_inserted_cols] == \".\"):\n",
    "        grid = np.insert(grid, i + num_inserted_cols, grid[:, i + num_inserted_cols], 1)\n",
    "        num_inserted_cols += 1"
   ]
  },
  {
   "cell_type": "code",
   "execution_count": 47,
   "id": "83139159",
   "metadata": {},
   "outputs": [],
   "source": [
    "wheres = np.where(grid == \"#\")\n",
    "gals = list(zip(wheres[0], wheres[1]))\n",
    "pairs = itertools.combinations(gals, 2)"
   ]
  },
  {
   "cell_type": "code",
   "execution_count": 48,
   "id": "0e6fe1a0",
   "metadata": {},
   "outputs": [],
   "source": [
    "total_distance = 0\n",
    "for pair in pairs:\n",
    "    total_distance += abs(pair[0][0] - pair[1][0]) + abs(pair[0][1] - pair[1][1])"
   ]
  },
  {
   "cell_type": "code",
   "execution_count": 51,
   "id": "eae5f351",
   "metadata": {},
   "outputs": [
    {
     "name": "stderr",
     "output_type": "stream",
     "text": [
      "coerced int64 value 9639160 for 2023/11\n"
     ]
    }
   ],
   "source": [
    "puzzle.answer_a = total_distance"
   ]
  },
  {
   "cell_type": "code",
   "execution_count": 80,
   "id": "0eeea1ac",
   "metadata": {},
   "outputs": [],
   "source": [
    "empty_rows = []\n",
    "empty_cols = []\n",
    "grid = np.array([list(x) for x in data.split(\"\\n\")])\n",
    "for i in range(len(grid)):\n",
    "    if all(grid[i] == \".\"):\n",
    "        empty_rows.append(i)\n",
    "\n",
    "for i in range(len(grid[0])):\n",
    "    if all(grid[:, i] == \".\"):\n",
    "        empty_cols.append(i)"
   ]
  },
  {
   "cell_type": "code",
   "execution_count": 81,
   "id": "47af20f3",
   "metadata": {},
   "outputs": [],
   "source": [
    "def dist(a, b):\n",
    "    base = abs(a[0] - b[0]) + abs(a[1] - b[1])\n",
    "    base += (1000000-1) * len(set(bi_range(a[0], b[0])) & set(empty_rows))\n",
    "    base += (1000000-1) * len(set(bi_range(a[1], b[1])) & set(empty_cols))\n",
    "    return base"
   ]
  },
  {
   "cell_type": "code",
   "execution_count": 82,
   "id": "05c90b50",
   "metadata": {},
   "outputs": [],
   "source": [
    "wheres = np.where(grid == \"#\")\n",
    "gals = list(zip(wheres[0], wheres[1]))\n",
    "pairs = itertools.combinations(gals, 2)"
   ]
  },
  {
   "cell_type": "code",
   "execution_count": 83,
   "id": "0f497f38",
   "metadata": {},
   "outputs": [],
   "source": [
    "total_distance = 0\n",
    "for pair in pairs:\n",
    "    total_distance += dist(pair[0], pair[1])"
   ]
  },
  {
   "cell_type": "code",
   "execution_count": 86,
   "id": "974890d1",
   "metadata": {},
   "outputs": [
    {
     "name": "stderr",
     "output_type": "stream",
     "text": [
      "coerced int64 value 752936133304 for 2023/11\n"
     ]
    }
   ],
   "source": [
    "puzzle.answer_b = total_distance"
   ]
  },
  {
   "cell_type": "code",
   "execution_count": null,
   "id": "c6a3a721",
   "metadata": {},
   "outputs": [],
   "source": []
  }
 ],
 "metadata": {
  "kernelspec": {
   "display_name": "Python 3 (ipykernel)",
   "language": "python",
   "name": "python3"
  },
  "language_info": {
   "codemirror_mode": {
    "name": "ipython",
    "version": 3
   },
   "file_extension": ".py",
   "mimetype": "text/x-python",
   "name": "python",
   "nbconvert_exporter": "python",
   "pygments_lexer": "ipython3",
   "version": "3.11.0"
  }
 },
 "nbformat": 4,
 "nbformat_minor": 5
}

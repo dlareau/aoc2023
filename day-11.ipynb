{
 "cells": [
  {
   "cell_type": "code",
   "execution_count": 1,
   "id": "420d39aa",
   "metadata": {},
   "outputs": [],
   "source": [
    "from aocd.models import Puzzle\n",
    "puzzle = Puzzle(year=2023, day=11)\n",
    "import numpy as np\n",
    "import itertools\n",
    "data = puzzle.input_data\n",
    "%run helper.ipynb"
   ]
  },
  {
   "cell_type": "code",
   "execution_count": 2,
   "id": "33a28c88",
   "metadata": {},
   "outputs": [],
   "source": [
    "empty_rows = []\n",
    "empty_cols = []\n",
    "grid = np.array([list(x) for x in data.split(\"\\n\")])\n",
    "for i in range(len(grid)):\n",
    "    if all(grid[i] == \".\"):\n",
    "        empty_rows.append(i)\n",
    "\n",
    "for i in range(len(grid[0])):\n",
    "    if all(grid[:, i] == \".\"):\n",
    "        empty_cols.append(i)\n",
    "        \n",
    "wheres = np.where(grid == \"#\")\n",
    "gals = list(zip(wheres[0], wheres[1]))\n",
    "pairs = list(itertools.combinations(gals, 2))\n",
    "        \n",
    "def dist(a, b, factor):\n",
    "    base = abs(a[0] - b[0]) + abs(a[1] - b[1])\n",
    "    base += (factor-1) * len(set(bi_range(a[0], b[0])) & set(empty_rows))\n",
    "    base += (factor-1) * len(set(bi_range(a[1], b[1])) & set(empty_cols))\n",
    "    return base"
   ]
  },
  {
   "cell_type": "code",
   "execution_count": 3,
   "id": "bb07b380",
   "metadata": {},
   "outputs": [],
   "source": [
    "total_distance = 0\n",
    "for pair in pairs:\n",
    "    total_distance += dist(pair[0], pair[1], 2)\n",
    "puzzle.answer_a = int(total_distance)"
   ]
  },
  {
   "cell_type": "code",
   "execution_count": 4,
   "id": "c0d479aa",
   "metadata": {},
   "outputs": [],
   "source": [
    "total_distance = 0\n",
    "for pair in pairs:\n",
    "    total_distance += dist(pair[0], pair[1], 1000000)\n",
    "puzzle.answer_b = int(total_distance)"
   ]
  },
  {
   "cell_type": "code",
   "execution_count": null,
   "id": "738044b3",
   "metadata": {},
   "outputs": [],
   "source": []
  }
 ],
 "metadata": {
  "kernelspec": {
   "display_name": "Python 3 (ipykernel)",
   "language": "python",
   "name": "python3"
  },
  "language_info": {
   "codemirror_mode": {
    "name": "ipython",
    "version": 3
   },
   "file_extension": ".py",
   "mimetype": "text/x-python",
   "name": "python",
   "nbconvert_exporter": "python",
   "pygments_lexer": "ipython3",
   "version": "3.11.0"
  }
 },
 "nbformat": 4,
 "nbformat_minor": 5
}

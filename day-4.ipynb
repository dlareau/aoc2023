{
 "cells": [
  {
   "cell_type": "code",
   "execution_count": 60,
   "id": "78ec8505",
   "metadata": {},
   "outputs": [],
   "source": [
    "from aocd.models import Puzzle\n",
    "import re\n",
    "import itertools\n",
    "puzzle = Puzzle(year=2023, day=4)\n",
    "data = puzzle.input_data"
   ]
  },
  {
   "cell_type": "code",
   "execution_count": 61,
   "id": "f76618f6",
   "metadata": {},
   "outputs": [],
   "source": [
    "data = re.sub(\" +\", \" \", data)"
   ]
  },
  {
   "cell_type": "code",
   "execution_count": 62,
   "id": "9b795fc3",
   "metadata": {},
   "outputs": [],
   "source": [
    "class Card(object):\n",
    "    def __init__(self, input_str):\n",
    "        nums = input_str.split(\": \")[1]\n",
    "        winning_nums, my_nums = nums.split(\" | \")\n",
    "        self.winning_nums = list(map(int, winning_nums.split(\" \")))\n",
    "        self.my_nums = list(map(int, my_nums.split(\" \")))\n",
    "\n",
    "    def num_matching(self):\n",
    "        return len(set(self.winning_nums) & set(self.my_nums))\n",
    "        \n",
    "    def score(self):\n",
    "        num_matching = self.num_matching()\n",
    "        if num_matching == 0:\n",
    "            return 0\n",
    "        else:\n",
    "            return 2 ** (num_matching - 1)"
   ]
  },
  {
   "cell_type": "code",
   "execution_count": 63,
   "id": "7a107b8a",
   "metadata": {},
   "outputs": [],
   "source": [
    "cards = [Card(line) for line in data.split(\"\\n\")]"
   ]
  },
  {
   "cell_type": "code",
   "execution_count": 64,
   "id": "d26723a6",
   "metadata": {},
   "outputs": [],
   "source": [
    "puzzle.answer_a = sum([card.score() for card in cards])"
   ]
  },
  {
   "cell_type": "code",
   "execution_count": 65,
   "id": "ac6841d5",
   "metadata": {},
   "outputs": [],
   "source": [
    "num_copies = [1] * len(cards)\n",
    "for card_num, card in enumerate(cards):\n",
    "    num_matching = card.num_matching()\n",
    "    for i in range(card_num + 1, min(len(cards), card_num + 1 + num_matching)):\n",
    "        num_copies[i] += num_copies[card_num]\n"
   ]
  },
  {
   "cell_type": "code",
   "execution_count": 68,
   "id": "dab9f2d4",
   "metadata": {},
   "outputs": [],
   "source": [
    "puzzle.answer_b = sum(num_copies)"
   ]
  },
  {
   "cell_type": "code",
   "execution_count": null,
   "id": "32e7cf27",
   "metadata": {},
   "outputs": [],
   "source": []
  }
 ],
 "metadata": {
  "kernelspec": {
   "display_name": "Python 3 (ipykernel)",
   "language": "python",
   "name": "python3"
  },
  "language_info": {
   "codemirror_mode": {
    "name": "ipython",
    "version": 3
   },
   "file_extension": ".py",
   "mimetype": "text/x-python",
   "name": "python",
   "nbconvert_exporter": "python",
   "pygments_lexer": "ipython3",
   "version": "3.11.0"
  }
 },
 "nbformat": 4,
 "nbformat_minor": 5
}

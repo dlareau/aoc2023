{
 "cells": [
  {
   "cell_type": "code",
   "execution_count": 7,
   "id": "a600e917-f9f7-4ea7-8fec-a68d4028d1a2",
   "metadata": {},
   "outputs": [],
   "source": [
    "from aocd.models import Puzzle\n",
    "import re\n",
    "puzzle = Puzzle(year=2023, day=2)\n",
    "data = puzzle.input_data"
   ]
  },
  {
   "cell_type": "code",
   "execution_count": 8,
   "id": "7c7953b8-b390-498d-b431-df60214fe425",
   "metadata": {},
   "outputs": [],
   "source": [
    "max_colors = {\n",
    "    \"red\": 12,\n",
    "    \"green\": 13,\n",
    "    \"blue\": 14\n",
    "}"
   ]
  },
  {
   "cell_type": "code",
   "execution_count": 9,
   "id": "3ff69dcd-3d42-45bd-a4ce-e53c1ace2bad",
   "metadata": {},
   "outputs": [],
   "source": [
    "games = data.split(\"\\n\")\n",
    "good_games = []\n",
    "for game in games:\n",
    "    possible = True\n",
    "    id, pulls = game.split(\": \")\n",
    "    id = int(id.split(\" \")[1])\n",
    "    pulls = pulls.split(\"; \")\n",
    "    for pull in pulls:\n",
    "        balls = pull.split(\", \")\n",
    "        for ball in balls:\n",
    "            num, color = ball.split(\" \")\n",
    "            num = int(num)\n",
    "            if num > max_colors[color]:\n",
    "                possible = False    \n",
    "    if possible:\n",
    "        good_games.append(id)"
   ]
  },
  {
   "cell_type": "code",
   "execution_count": 10,
   "id": "38acfa45-4c3e-4987-b607-869f3418de4d",
   "metadata": {},
   "outputs": [],
   "source": [
    "puzzle.answer_a = sum(good_games)"
   ]
  },
  {
   "cell_type": "code",
   "execution_count": 11,
   "id": "93c75292-9775-4ced-93e3-a2df1281efb5",
   "metadata": {},
   "outputs": [],
   "source": [
    "games = data.split(\"\\n\")\n",
    "power_sum = 0\n",
    "for game in games:\n",
    "    mins = {\n",
    "        \"red\": 0,\n",
    "        \"green\": 0,\n",
    "        \"blue\": 0\n",
    "    }\n",
    "    _, pulls = game.split(\": \")\n",
    "    pulls = pulls.split(\"; \")\n",
    "    for pull in pulls:\n",
    "        balls = pull.split(\", \")\n",
    "        for ball in balls:\n",
    "            num, color = ball.split(\" \")\n",
    "            num = int(num)\n",
    "            mins[color] = max(mins[color], num)\n",
    "    power = mins[\"red\"] * mins[\"green\"] * mins[\"blue\"]\n",
    "    power_sum += power"
   ]
  },
  {
   "cell_type": "code",
   "execution_count": 12,
   "id": "5d5600f8-cb34-476f-9c58-4fa8d2945db4",
   "metadata": {},
   "outputs": [],
   "source": [
    "puzzle.answer_b = power_sum"
   ]
  },
  {
   "cell_type": "code",
   "execution_count": null,
   "id": "e38bc4ec-7f9d-4f50-a463-7b1a1eb6b5f1",
   "metadata": {},
   "outputs": [],
   "source": []
  }
 ],
 "metadata": {
  "kernelspec": {
   "display_name": "Python 3 (ipykernel)",
   "language": "python",
   "name": "python3"
  },
  "language_info": {
   "codemirror_mode": {
    "name": "ipython",
    "version": 3
   },
   "file_extension": ".py",
   "mimetype": "text/x-python",
   "name": "python",
   "nbconvert_exporter": "python",
   "pygments_lexer": "ipython3",
   "version": "3.11.0"
  }
 },
 "nbformat": 4,
 "nbformat_minor": 5
}

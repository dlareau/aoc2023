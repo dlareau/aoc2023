{
 "cells": [
  {
   "cell_type": "code",
   "execution_count": 1,
   "id": "bcd5a7bb-fc91-4ebd-a301-8f77225dcea7",
   "metadata": {},
   "outputs": [],
   "source": [
    "import aocd\n",
    "import re\n",
    "import numpy as np\n",
    "%run helper.ipynb\n",
    "puzzle = aocd.models.Puzzle(year=2023, day=1)"
   ]
  },
  {
   "cell_type": "code",
   "execution_count": 2,
   "id": "f69733ee-5583-46b4-8a36-53a6aeaa5bc1",
   "metadata": {},
   "outputs": [],
   "source": [
    "lines = puzzle.input_data.split()\n",
    "nums = [re.sub(\"[^0-9]\", \"\", line) for line in lines]\n",
    "pairs = [int(x[0]) * 10 + int(x[-1]) for x in nums]"
   ]
  },
  {
   "cell_type": "code",
   "execution_count": 4,
   "id": "37f45f6e-f08c-4c74-ad3b-51c5c808d5c5",
   "metadata": {},
   "outputs": [],
   "source": [
    "puzzle.answer_a = sum(pairs)"
   ]
  },
  {
   "cell_type": "code",
   "execution_count": 5,
   "id": "425089ce-a4ba-4d1f-bcdc-5a7e9df1569d",
   "metadata": {},
   "outputs": [],
   "source": [
    "lookup = {\n",
    "    \"one\": \"1\",\n",
    "    \"two\": \"2\",\n",
    "    \"three\": \"3\",\n",
    "    \"four\": \"4\",\n",
    "    \"five\": \"5\",\n",
    "    \"six\": \"6\",\n",
    "    \"seven\": \"7\",\n",
    "    \"eight\": \"8\",\n",
    "    \"nine\": \"9\"\n",
    "}\n",
    "def process_line(line):\n",
    "    words = re.findall(\"(one|two|three|four|five|six|seven|eight|nine)\", line)\n",
    "    if len(words) == 1:\n",
    "        line = re.sub(words[0], lookup[words[0]], line)\n",
    "    if len(words) > 1:\n",
    "        line = re.sub(words[0], lookup[words[0]], line, count=1)\n",
    "        line = re.sub(words[-1], lookup[words[-1]], line)\n",
    "    return line\n",
    "\n",
    "converted_lines = [process_line(line) for line in lines]\n",
    "nums = [re.sub(\"[^0-9]\", \"\", line) for line in converted_lines]\n",
    "\n",
    "pairs = [int(x[0]) * 10 + int(x[-1]) for x in nums]"
   ]
  },
  {
   "cell_type": "code",
   "execution_count": 6,
   "id": "bd8ac3a3-7a9e-430e-9ac4-d90df3325188",
   "metadata": {},
   "outputs": [],
   "source": [
    "puzzle.answer_b = sum(pairs)"
   ]
  },
  {
   "cell_type": "code",
   "execution_count": null,
   "id": "4e9f648b",
   "metadata": {},
   "outputs": [],
   "source": []
  }
 ],
 "metadata": {
  "kernelspec": {
   "display_name": "Python 3 (ipykernel)",
   "language": "python",
   "name": "python3"
  },
  "language_info": {
   "codemirror_mode": {
    "name": "ipython",
    "version": 3
   },
   "file_extension": ".py",
   "mimetype": "text/x-python",
   "name": "python",
   "nbconvert_exporter": "python",
   "pygments_lexer": "ipython3",
   "version": "3.11.0"
  }
 },
 "nbformat": 4,
 "nbformat_minor": 5
}

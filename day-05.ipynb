{
 "cells": [
  {
   "cell_type": "code",
   "execution_count": 97,
   "id": "32c44418",
   "metadata": {},
   "outputs": [],
   "source": [
    "from aocd.models import Puzzle\n",
    "import re\n",
    "import itertools\n",
    "puzzle = Puzzle(year=2023, day=5)\n",
    "data = puzzle.input_data"
   ]
  },
  {
   "cell_type": "code",
   "execution_count": 98,
   "id": "249834fb",
   "metadata": {},
   "outputs": [],
   "source": [
    "class Mapper(object):\n",
    "    def __init__(self, raw_ranges):\n",
    "        range_lines = [list(map(int,line.split(\" \"))) for line in raw_ranges]\n",
    "        self.ranges = range_lines\n",
    "    \n",
    "    def convert(self, num):\n",
    "        for r in self.ranges:\n",
    "            if num >= r[1] and num < (r[1] + r[2]):\n",
    "                return num - r[1] + r[0]\n",
    "        return num"
   ]
  },
  {
   "cell_type": "code",
   "execution_count": 99,
   "id": "527ace3d",
   "metadata": {},
   "outputs": [],
   "source": [
    "sections = data.split(\"\\n\\n\")"
   ]
  },
  {
   "cell_type": "code",
   "execution_count": 100,
   "id": "c1ddfcd4",
   "metadata": {},
   "outputs": [],
   "source": [
    "maps = [Mapper(section.split(\"\\n\")[1:]) for section in sections[1:]]"
   ]
  },
  {
   "cell_type": "code",
   "execution_count": 101,
   "id": "b7fb9bbb",
   "metadata": {},
   "outputs": [],
   "source": [
    "seeds = list(map(int,sections[0].split(\" \")[1:]))"
   ]
  },
  {
   "cell_type": "code",
   "execution_count": 102,
   "id": "a823b6ad",
   "metadata": {},
   "outputs": [],
   "source": [
    "locations = []\n",
    "for seed in seeds:\n",
    "    current_val = seed\n",
    "    for m in maps:\n",
    "        current_val = m.convert(current_val)\n",
    "    locations.append(current_val)"
   ]
  },
  {
   "cell_type": "code",
   "execution_count": 103,
   "id": "60e8a987",
   "metadata": {},
   "outputs": [],
   "source": [
    "puzzle.answer_a = min(locations)"
   ]
  },
  {
   "cell_type": "code",
   "execution_count": 113,
   "id": "1f791a18",
   "metadata": {},
   "outputs": [],
   "source": [
    "def remap_range(input_ranges, maps):\n",
    "    output_ranges = input_ranges\n",
    "    remapped_ranges = []\n",
    "    for m in maps:\n",
    "        map_range = (m[1], m[1] + m[2] - 1)\n",
    "        temp_ranges = []\n",
    "        for r in output_ranges:\n",
    "            overlap = (max(r[0], map_range[0]), min(r[1], map_range[1]))\n",
    "            if overlap[0] <= overlap[1]:\n",
    "                if overlap[0] != r[0]:\n",
    "                    temp_ranges.append((r[0], overlap[0]-1))\n",
    "                if overlap[1] != r[1]:\n",
    "                    temp_ranges.append((overlap[1]+1, r[1]))\n",
    "                diff = m[0] - m[1]\n",
    "                remapped_ranges.append((overlap[0] + diff, overlap[1] + diff))\n",
    "            else:\n",
    "                temp_ranges.append(r)\n",
    "        output_ranges = temp_ranges\n",
    "    return output_ranges + remapped_ranges"
   ]
  },
  {
   "cell_type": "code",
   "execution_count": 114,
   "id": "1532fd8e",
   "metadata": {},
   "outputs": [],
   "source": [
    "seed_ranges = [(seeds[p], seeds[p] + seeds[p+1] - 1) for p in range(0, len(seeds), 2)]"
   ]
  },
  {
   "cell_type": "code",
   "execution_count": 115,
   "id": "dbbd00e6",
   "metadata": {},
   "outputs": [],
   "source": [
    "raw_maps = [[list(map(int, m.split(\" \"))) for m in section.split(\"\\n\")[1:]] for section in sections[1:]]"
   ]
  },
  {
   "cell_type": "code",
   "execution_count": 116,
   "id": "c64662f3",
   "metadata": {},
   "outputs": [],
   "source": [
    "for map_list in raw_maps:\n",
    "    seed_ranges = remap_range(seed_ranges, map_list)   "
   ]
  },
  {
   "cell_type": "code",
   "execution_count": 117,
   "id": "ce2bc23f",
   "metadata": {},
   "outputs": [],
   "source": [
    "puzzle.answer_b = min([s[0] for s in seed_ranges])"
   ]
  },
  {
   "cell_type": "code",
   "execution_count": null,
   "id": "ce46042b",
   "metadata": {},
   "outputs": [],
   "source": []
  }
 ],
 "metadata": {
  "kernelspec": {
   "display_name": "Python 3 (ipykernel)",
   "language": "python",
   "name": "python3"
  },
  "language_info": {
   "codemirror_mode": {
    "name": "ipython",
    "version": 3
   },
   "file_extension": ".py",
   "mimetype": "text/x-python",
   "name": "python",
   "nbconvert_exporter": "python",
   "pygments_lexer": "ipython3",
   "version": "3.11.0"
  }
 },
 "nbformat": 4,
 "nbformat_minor": 5
}

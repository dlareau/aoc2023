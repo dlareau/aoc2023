{
 "cells": [
  {
   "cell_type": "code",
   "execution_count": 38,
   "id": "2d786797-1a08-43ef-a332-f3d983e35b35",
   "metadata": {},
   "outputs": [],
   "source": [
    "from aocd.models import Puzzle\n",
    "import re\n",
    "import itertools\n",
    "puzzle = Puzzle(year=2023, day=3)\n",
    "data = puzzle.input_data"
   ]
  },
  {
   "cell_type": "code",
   "execution_count": 39,
   "id": "201da952-67f7-46fa-9110-beaae358595c",
   "metadata": {},
   "outputs": [],
   "source": [
    "class Word(object):\n",
    "    def __init__(self, row, start, end, row_max, col_max):\n",
    "        self.row = row\n",
    "        self.start = start\n",
    "        self.end = end\n",
    "        self.row_max = row_max\n",
    "        self.col_max = col_max\n",
    "    def get_surroundings(self):\n",
    "        surroundings = itertools.product(range(self.row-1,self.row+2), range(self.start-1, self.end+2))\n",
    "        surroundings = filter(lambda pair: pair[0] != -1, surroundings)\n",
    "        surroundings = filter(lambda pair: pair[0] != self.row_max, surroundings)\n",
    "        surroundings = filter(lambda pair: pair[1] != -1, surroundings)\n",
    "        surroundings = filter(lambda pair: pair[1] != self.col_max, surroundings)\n",
    "        #surroundings = filter(lambda pair: not (pair[0] == self.row and self.start <= pair[1] and pair[1] <= self.end), surroundings)\n",
    "        return surroundings\n",
    "    \n",
    "    def value(self, grid):\n",
    "        return int(\"\".join([grid[self.row][col] for col in range(self.start, self.end+1)]))\n",
    "        \n",
    "    def __repr__(self):\n",
    "        return f\"({self.row}, {self.start}) -> ({self.row}, {self.end})\""
   ]
  },
  {
   "cell_type": "code",
   "execution_count": 40,
   "id": "21f95586-9e38-4953-9b51-798377379b7b",
   "metadata": {},
   "outputs": [],
   "source": [
    "grid = [list(x) for x in data.split(\"\\n\")]\n",
    "words = []\n",
    "for row in range(len(grid)):\n",
    "    last_was_num = False\n",
    "    start = 0\n",
    "    for col in range(len(grid[0])):\n",
    "        if grid[row][col] in \"0123456789\":\n",
    "            if not last_was_num:\n",
    "                start = col\n",
    "            last_was_num = True\n",
    "        else:\n",
    "            if last_was_num:\n",
    "                words.append(Word(row, start, col-1, len(grid), len(grid[0])))\n",
    "            last_was_num = False\n",
    "        if col == len(grid[0]) - 1 and last_was_num:\n",
    "            words.append(Word(row, start, col, len(grid), len(grid[0])))"
   ]
  },
  {
   "cell_type": "code",
   "execution_count": 46,
   "id": "4b6d11c3",
   "metadata": {},
   "outputs": [],
   "source": [
    "symbols = \"!@#$%^&*=+-/\"\n",
    "good_nums = []\n",
    "for word in words:\n",
    "    s = list(word.get_surroundings())\n",
    "    symbol = any([grid[pair[0]][pair[1]] in symbols for pair in s])\n",
    "    if symbol:\n",
    "        good_nums.append(word.value(grid))"
   ]
  },
  {
   "cell_type": "code",
   "execution_count": 47,
   "id": "b2d6d657-79a2-4d60-8559-e4c284b6d70b",
   "metadata": {},
   "outputs": [],
   "source": [
    "puzzle.answer_a = sum(good_nums)"
   ]
  },
  {
   "cell_type": "code",
   "execution_count": 49,
   "id": "5d76e57b-48a3-4908-a61b-53dd996f8024",
   "metadata": {},
   "outputs": [],
   "source": [
    "stars = []\n",
    "for row in range(len(grid)):\n",
    "    for col in range(len(grid[0])):\n",
    "        if grid[row][col] == \"*\":\n",
    "            stars.append((row, col))"
   ]
  },
  {
   "cell_type": "code",
   "execution_count": 54,
   "id": "60c2fa6b",
   "metadata": {},
   "outputs": [],
   "source": [
    "gear_ratios = []\n",
    "for star in stars:\n",
    "    adj = []\n",
    "    for word in words:\n",
    "        if star in word.get_surroundings():\n",
    "            adj.append(word)\n",
    "    if len(adj) == 2:\n",
    "        gear_ratios.append(adj[0].value(grid) * adj[1].value(grid))"
   ]
  },
  {
   "cell_type": "code",
   "execution_count": 57,
   "id": "deb8f4c7",
   "metadata": {},
   "outputs": [],
   "source": [
    "puzzle.answer_b = sum(gear_ratios)"
   ]
  },
  {
   "cell_type": "code",
   "execution_count": null,
   "id": "5535ba80",
   "metadata": {},
   "outputs": [],
   "source": []
  }
 ],
 "metadata": {
  "kernelspec": {
   "display_name": "Python 3 (ipykernel)",
   "language": "python",
   "name": "python3"
  },
  "language_info": {
   "codemirror_mode": {
    "name": "ipython",
    "version": 3
   },
   "file_extension": ".py",
   "mimetype": "text/x-python",
   "name": "python",
   "nbconvert_exporter": "python",
   "pygments_lexer": "ipython3",
   "version": "3.11.0"
  }
 },
 "nbformat": 4,
 "nbformat_minor": 5
}

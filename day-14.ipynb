{
 "cells": [
  {
   "cell_type": "code",
   "execution_count": 1,
   "id": "32eef0f4",
   "metadata": {},
   "outputs": [],
   "source": [
    "from aocd.models import Puzzle\n",
    "puzzle = Puzzle(year=2023, day=14)\n",
    "data = puzzle.input_data\n",
    "%run helper.ipynb"
   ]
  },
  {
   "cell_type": "code",
   "execution_count": 2,
   "id": "cc74cc3b",
   "metadata": {},
   "outputs": [],
   "source": [
    "def slide_row(row):\n",
    "    balls = np.where(row == \"O\")\n",
    "    for index in balls[0]:\n",
    "        for i in range(index-1, -1, -1):\n",
    "            if row[i] != \".\":\n",
    "                row[index] = \".\"\n",
    "                row[i+1] = \"O\"\n",
    "                break\n",
    "            if i == 0:\n",
    "                row[index] = \".\"\n",
    "                row[i] = \"O\"\n",
    "                break\n",
    "    return row\n",
    "\n",
    "def spin(grid):\n",
    "    grid = np.rot90(grid)\n",
    "    grid[:] = [slide_row(x) for x in grid]\n",
    "    grid = np.rot90(grid, 3)\n",
    "    grid[:] = [slide_row(x) for x in grid]\n",
    "    grid = np.rot90(grid, 3)\n",
    "    grid[:] = [slide_row(x) for x in grid]\n",
    "    grid = np.rot90(grid, 3)\n",
    "    grid[:] = [slide_row(x) for x in grid]\n",
    "    grid = np.rot90(grid, 2)\n",
    "    return grid\n",
    "\n",
    "def load(grid):\n",
    "    total = 0\n",
    "    for row in range(len(grid)):\n",
    "        total += (len(grid) - row) * len(np.where(grid[row] == \"O\")[0])\n",
    "    return total\n",
    "\n",
    "def spin_multiple(g, n):\n",
    "    d = {}\n",
    "    last = 0\n",
    "    diff = 0\n",
    "    for i in range(n):\n",
    "        try:\n",
    "            _, pi = d[g.tobytes()]\n",
    "            last = i\n",
    "            diff = i - pi\n",
    "            break\n",
    "        except:\n",
    "            key = g.tobytes()\n",
    "            g = spin(g)\n",
    "            d[key] = (np.copy(g), i)\n",
    "\n",
    "    final = (((n - last)//diff) * diff) + last\n",
    "    for i in range(final, n):\n",
    "        g, _ = d[g.tobytes()]\n",
    "    return g"
   ]
  },
  {
   "cell_type": "code",
   "execution_count": 3,
   "id": "08ea942a",
   "metadata": {},
   "outputs": [],
   "source": [
    "g = Grid(data, conv_func=str)\n",
    "g = g.transpose()\n",
    "g[:] = [slide_row(x) for x in g]\n",
    "g = g.transpose()"
   ]
  },
  {
   "cell_type": "code",
   "execution_count": 4,
   "id": "03669d58",
   "metadata": {},
   "outputs": [],
   "source": [
    "puzzle.answer_a = load(g)"
   ]
  },
  {
   "cell_type": "code",
   "execution_count": 5,
   "id": "63ba3d7f",
   "metadata": {},
   "outputs": [],
   "source": [
    "g = Grid(data, conv_func=str)\n",
    "g = spin_multiple(g, 1000000000)"
   ]
  },
  {
   "cell_type": "code",
   "execution_count": 6,
   "id": "d254a4e6",
   "metadata": {},
   "outputs": [],
   "source": [
    "puzzle.answer_b = load(g)"
   ]
  },
  {
   "cell_type": "code",
   "execution_count": null,
   "id": "883e6275",
   "metadata": {},
   "outputs": [],
   "source": []
  }
 ],
 "metadata": {
  "kernelspec": {
   "display_name": "Python 3 (ipykernel)",
   "language": "python",
   "name": "python3"
  },
  "language_info": {
   "codemirror_mode": {
    "name": "ipython",
    "version": 3
   },
   "file_extension": ".py",
   "mimetype": "text/x-python",
   "name": "python",
   "nbconvert_exporter": "python",
   "pygments_lexer": "ipython3",
   "version": "3.11.0"
  }
 },
 "nbformat": 4,
 "nbformat_minor": 5
}

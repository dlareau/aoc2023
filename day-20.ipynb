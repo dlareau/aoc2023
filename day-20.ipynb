{
 "cells": [
  {
   "cell_type": "code",
   "execution_count": 1,
   "id": "266216da",
   "metadata": {},
   "outputs": [],
   "source": [
    "from aocd.models import Puzzle\n",
    "import queue\n",
    "puzzle = Puzzle(year=2023, day=20)\n",
    "data = puzzle.input_data\n",
    "%run helper.ipynb"
   ]
  },
  {
   "cell_type": "code",
   "execution_count": 2,
   "id": "0d61340d",
   "metadata": {},
   "outputs": [],
   "source": [
    "class FF(object):\n",
    "    def __init__(self, name, outputs):\n",
    "        self.outputs = outputs\n",
    "        self.state = False\n",
    "        self.name = name\n",
    "    \n",
    "    def receive(self, signal):\n",
    "        if not signal[1]:\n",
    "            self.state = not self.state\n",
    "            return [(self.name, self.state, output) for output in self.outputs]\n",
    "        return []\n",
    "        \n",
    "class AND(object):\n",
    "    def __init__(self, name, inputs, outputs):\n",
    "        self.name = name\n",
    "        self.state = {i: False for i in inputs}\n",
    "        self.outputs = outputs\n",
    "        \n",
    "    def receive(self, signal):\n",
    "        self.state[signal[0]] = signal[1]\n",
    "        if all(self.state.values()):\n",
    "            result = False\n",
    "        else:\n",
    "            result = True\n",
    "        return [(self.name, result, output) for output in self.outputs]\n",
    "    \n",
    "def exhaust(processors, input_signals, i):\n",
    "    iq = queue.Queue()\n",
    "    for s in input_signals:\n",
    "        iq.put(s)\n",
    "\n",
    "    h, l = 0, 1\n",
    "    hit_rx = False\n",
    "    while not iq.empty():\n",
    "        signal = iq.get(block=False)\n",
    "        if signal[1]:\n",
    "            h += 1\n",
    "        else:\n",
    "            l += 1\n",
    "        if signal[2] == \"rx\":\n",
    "            continue\n",
    "        if signal[2] == \"gf\" and signal[1]:\n",
    "            print(signal[0], i)\n",
    "        results = processors[signal[2]].receive(signal)\n",
    "        for result in results:\n",
    "            iq.put(result)\n",
    "    return h, l\n",
    "\n",
    "def setup(data):\n",
    "    processors = {}\n",
    "\n",
    "    ps = [p.split(\" -> \") for p in data.split(\"\\n\")]\n",
    "    base_names = []\n",
    "    for p in ps:\n",
    "        if p[0] == \"broadcaster\":\n",
    "            base_names = p[1].split(\", \")\n",
    "            continue\n",
    "        if p[0][0] == \"%\":\n",
    "            name = p[0][1:]\n",
    "            processors[name] = FF(name, p[1].split(\", \"))\n",
    "        if p[0][0] == \"&\":\n",
    "            name = p[0][1:]\n",
    "            inputs = [x[0][1:] for x in ps if name in x[1]]\n",
    "            processors[name] = AND(name, inputs, p[1].split(\", \"))\n",
    "\n",
    "    base_signals = [(\"b\", False, name) for name in base_names]\n",
    "    return processors, base_signals"
   ]
  },
  {
   "cell_type": "code",
   "execution_count": 3,
   "id": "714d2e22",
   "metadata": {},
   "outputs": [],
   "source": [
    "h_total = 0\n",
    "l_total = 0\n",
    "processors, base_signals = setup(data)\n",
    "for i in range(1000):\n",
    "    h, l = exhaust(processors, base_signals, i)\n",
    "    h_total += h\n",
    "    l_total += l\n",
    "\n",
    "puzzle.answer_a = h_total * l_total"
   ]
  },
  {
   "cell_type": "code",
   "execution_count": 4,
   "id": "38712713",
   "metadata": {},
   "outputs": [
    {
     "name": "stdout",
     "output_type": "stream",
     "text": [
      "kr 3761\n",
      "kf 3767\n",
      "qk 4001\n",
      "zs 4091\n"
     ]
    }
   ],
   "source": [
    "processors, base_signals = setup(data)\n",
    "i = 1\n",
    "for i in range(1, 5000): # 5000 chosen to hit each LCM once\n",
    "    _, _ = exhaust(processors, base_signals, i)"
   ]
  },
  {
   "cell_type": "code",
   "execution_count": 5,
   "id": "53aca8df",
   "metadata": {},
   "outputs": [],
   "source": [
    "puzzle.answer_b = 231897990075517 # = LCM (3761, 3767, 4001, 4091)"
   ]
  },
  {
   "cell_type": "code",
   "execution_count": null,
   "id": "15d37aca",
   "metadata": {},
   "outputs": [],
   "source": []
  }
 ],
 "metadata": {
  "kernelspec": {
   "display_name": "Python 3 (ipykernel)",
   "language": "python",
   "name": "python3"
  },
  "language_info": {
   "codemirror_mode": {
    "name": "ipython",
    "version": 3
   },
   "file_extension": ".py",
   "mimetype": "text/x-python",
   "name": "python",
   "nbconvert_exporter": "python",
   "pygments_lexer": "ipython3",
   "version": "3.11.0"
  }
 },
 "nbformat": 4,
 "nbformat_minor": 5
}

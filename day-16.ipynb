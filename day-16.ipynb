{
 "cells": [
  {
   "cell_type": "code",
   "execution_count": 204,
   "id": "038b39dd",
   "metadata": {},
   "outputs": [],
   "source": [
    "from aocd.models import Puzzle\n",
    "puzzle = Puzzle(year=2023, day=16)\n",
    "data = puzzle.input_data\n",
    "%run helper.ipynb"
   ]
  },
  {
   "cell_type": "code",
   "execution_count": 205,
   "id": "0968b1b3",
   "metadata": {},
   "outputs": [],
   "source": [
    "# Beam = ((5,4), (0,1))\n",
    "\n",
    "def print_grid(grid):\n",
    "    print(\"\\n\".join([\"\".join(list(map(str,l))) for l in grid]))\n",
    "\n",
    "def add_coords(pos, velocity):\n",
    "    return (pos[0] + velocity[0], pos[1] + velocity[1])\n",
    "\n",
    "def validate_coord(coords, grid):\n",
    "    if coords[0] < 0 or len(grid) <= coords[0]:\n",
    "        return False\n",
    "    if coords[1] < 0 or len(grid[0]) <= coords[1]:\n",
    "        return False\n",
    "    return True\n",
    "    \n",
    "\n",
    "def move_beam(grid, energy_grid, beam):\n",
    "    curr_pos = beam[0]\n",
    "    if beam[1] in energy_grid[curr_pos[0]][curr_pos[1]]:\n",
    "        return []\n",
    "    energy_grid[curr_pos[0]][curr_pos[1]][beam[1]] = True\n",
    "    tile = grid[curr_pos[0]][curr_pos[1]]\n",
    "    new_beams = []\n",
    "    if tile == \"\\\\\":\n",
    "        new_velocity = (beam[1][1], beam[1][0])\n",
    "        new_position = add_coords(curr_pos, new_velocity)\n",
    "        new_beams.append((new_position, new_velocity))\n",
    "    elif tile == \"/\":\n",
    "        new_velocity = (-beam[1][1], -beam[1][0])\n",
    "        new_position = add_coords(curr_pos, new_velocity)\n",
    "        new_beams.append((new_position, new_velocity))\n",
    "    elif tile == \"|\":\n",
    "        if beam[1][1] == 0:\n",
    "            new_beams.append((add_coords(curr_pos, beam[1]), beam[1]))\n",
    "        else:\n",
    "            new_beams.append((add_coords(curr_pos, (1,0)), (1,0)))\n",
    "            new_beams.append((add_coords(curr_pos, (-1,0)), (-1,0)))\n",
    "    elif tile == \"-\":\n",
    "        if beam[1][0] == 0:\n",
    "            new_beams.append((add_coords(curr_pos, beam[1]), beam[1]))\n",
    "        else:\n",
    "            new_beams.append((add_coords(curr_pos, (0,1)), (0,1)))\n",
    "            new_beams.append((add_coords(curr_pos, (0,-1)), (0,-1)))\n",
    "    elif tile == \".\":\n",
    "        new_beams.append((add_coords(curr_pos, beam[1]), beam[1]))\n",
    "    else:\n",
    "        print(\"No matched tile!\")\n",
    "    new_beams = [b for b in new_beams if validate_coord(b[0], grid)]\n",
    "    return new_beams"
   ]
  },
  {
   "cell_type": "code",
   "execution_count": 206,
   "id": "31df15ca",
   "metadata": {},
   "outputs": [],
   "source": [
    "beams = [((0, 0), (0, 1))]\n",
    "grid = [list(s) for s in data.split(\"\\n\")]\n",
    "energy_grid = [[dict() for j in range(len(grid[0]))] for i in range(len(grid))]\n",
    "\n",
    "while(len(beams) > 0):\n",
    "    beams = flatten([move_beam(grid, energy_grid, b) for b in beams])\n",
    "\n",
    "new_energy_grid = [list(map(len, row)) for row in energy_grid]\n",
    "puzzle.answer_a = len(np.where(np.array(new_energy_grid) != 0)[0])"
   ]
  },
  {
   "cell_type": "code",
   "execution_count": 207,
   "id": "78faf4c0",
   "metadata": {},
   "outputs": [],
   "source": [
    "starting_positions = []\n",
    "starting_positions += [((0, i), (1, 0)) for i in range(len(grid[0]))]\n",
    "starting_positions += [((i, 0), (0, 1)) for i in range(len(grid))]\n",
    "starting_positions += [((len(grid)-1, i), (-1, 0)) for i in range(len(grid[0]))]\n",
    "starting_positions += [((i, len(grid[0]) - 1), (0, -1)) for i in range(len(grid))]"
   ]
  },
  {
   "cell_type": "code",
   "execution_count": 208,
   "id": "e1961931",
   "metadata": {},
   "outputs": [],
   "source": [
    "max_energized = 0\n",
    "for starting_position in starting_positions:\n",
    "    beams = [starting_position]\n",
    "    grid = [list(s) for s in data.split(\"\\n\")]\n",
    "    energy_grid = [[dict() for j in range(len(grid[0]))] for i in range(len(grid))]\n",
    "    while(len(beams) > 0):\n",
    "        beams = flatten([move_beam(grid, energy_grid, b) for b in beams])\n",
    "    new_energy_grid = [list(map(len, row)) for row in energy_grid]\n",
    "    energized = len(np.where(np.array(new_energy_grid) != 0)[0])\n",
    "    if energized > max_energized:\n",
    "        max_energized = energized\n",
    "puzzle.answer_b = max_energized"
   ]
  },
  {
   "cell_type": "code",
   "execution_count": null,
   "id": "75b323ac",
   "metadata": {},
   "outputs": [],
   "source": []
  }
 ],
 "metadata": {
  "kernelspec": {
   "display_name": "Python 3 (ipykernel)",
   "language": "python",
   "name": "python3"
  },
  "language_info": {
   "codemirror_mode": {
    "name": "ipython",
    "version": 3
   },
   "file_extension": ".py",
   "mimetype": "text/x-python",
   "name": "python",
   "nbconvert_exporter": "python",
   "pygments_lexer": "ipython3",
   "version": "3.11.0"
  }
 },
 "nbformat": 4,
 "nbformat_minor": 5
}

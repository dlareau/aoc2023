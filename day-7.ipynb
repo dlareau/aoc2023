{
 "cells": [
  {
   "cell_type": "code",
   "execution_count": 40,
   "id": "417d76ee",
   "metadata": {},
   "outputs": [],
   "source": [
    "from aocd.models import Puzzle\n",
    "from functools import total_ordering\n",
    "from collections import Counter\n",
    "puzzle = Puzzle(year=2023, day=7)\n",
    "data = puzzle.input_data"
   ]
  },
  {
   "cell_type": "code",
   "execution_count": 41,
   "id": "25a9f33d",
   "metadata": {},
   "outputs": [],
   "source": [
    "ranks = \"23456789TJQKA\"\n",
    "\n",
    "@total_ordering\n",
    "class Hand(object):\n",
    "    def __init__(self, input_str):\n",
    "        hand, bid = input_str.split(\" \")\n",
    "        self.hand = list(hand)\n",
    "        self.bid = int(bid)\n",
    "        \n",
    "    def hand_type(self):\n",
    "        count = Counter(self.hand)\n",
    "        t = 0\n",
    "        if len(count) == 1:\n",
    "            t = 7\n",
    "        elif count.most_common()[0][1] == 4:\n",
    "            t = 6\n",
    "        elif count.most_common()[0][1] == 3 and count.most_common()[1][1] == 2:\n",
    "            t = 5\n",
    "        elif count.most_common()[0][1] == 3:\n",
    "            t = 4\n",
    "        elif count.most_common()[0][1] == 2 and count.most_common()[1][1] == 2:\n",
    "            t = 3\n",
    "        elif count.most_common()[0][1] == 2:\n",
    "            t = 2\n",
    "        elif len(count) == 5:\n",
    "            t = 1\n",
    "        return t\n",
    "        \n",
    "        \n",
    "    def __eq__(self, other):\n",
    "        return self.hand == other.hand\n",
    "\n",
    "    def __gt__(self, other):\n",
    "        if self.hand_type() != other.hand_type():\n",
    "            return self.hand_type() > other.hand_type()\n",
    "        if self.hand == other.hand:\n",
    "            return false\n",
    "        for i in range(5):\n",
    "            rank = ranks.index(self.hand[i])\n",
    "            other_rank = ranks.index(other.hand[i])\n",
    "            if rank != other_rank:\n",
    "                return rank > other_rank\n",
    "        return false"
   ]
  },
  {
   "cell_type": "code",
   "execution_count": 42,
   "id": "e3cd9283",
   "metadata": {},
   "outputs": [],
   "source": [
    "hands = sorted(list(map(Hand, data.split(\"\\n\"))))"
   ]
  },
  {
   "cell_type": "code",
   "execution_count": 45,
   "id": "421d1887",
   "metadata": {},
   "outputs": [],
   "source": [
    "puzzle.answer_a = sum([h[1].bid * (h[0] + 1) for h in enumerate(hands)])"
   ]
  },
  {
   "cell_type": "code",
   "execution_count": 54,
   "id": "debc13c3",
   "metadata": {},
   "outputs": [],
   "source": [
    "ranks2 = \"J23456789TQKA\"\n",
    "\n",
    "@total_ordering\n",
    "class Hand2(object):\n",
    "    def __init__(self, input_str):\n",
    "        hand, bid = input_str.split(\" \")\n",
    "        self.hand = list(hand)\n",
    "        self.bid = int(bid)\n",
    "        \n",
    "    def hand_type(self):\n",
    "        if self.hand == [\"J\"] * 5:\n",
    "            return 7\n",
    "        if \"J\" in self.hand:\n",
    "            temp_hand = [c for c in self.hand if c != \"J\"]\n",
    "            temp_count = Counter(temp_hand)\n",
    "            new_hand = self.hand + ([temp_count.most_common()[0][0]] * (len(self.hand) - len(temp_hand)))\n",
    "        else:\n",
    "            new_hand = self.hand\n",
    "            \n",
    "        count = Counter(new_hand)\n",
    "        if len(count) == 1:\n",
    "            return 7\n",
    "        elif count.most_common()[0][1] == 4:\n",
    "            return 6\n",
    "        elif count.most_common()[0][1] == 3 and count.most_common()[1][1] == 2:\n",
    "            return 5\n",
    "        elif count.most_common()[0][1] == 3:\n",
    "            return 4\n",
    "        elif count.most_common()[0][1] == 2 and count.most_common()[1][1] == 2:\n",
    "            return 3\n",
    "        elif count.most_common()[0][1] == 2:\n",
    "            return 2\n",
    "        elif len(count) == 5:\n",
    "            return 1\n",
    "        print(\"oops?\", self.hand, count)\n",
    "        \n",
    "        \n",
    "    def __eq__(self, other):\n",
    "        return self.hand == other.hand\n",
    "\n",
    "    def __gt__(self, other):\n",
    "        if self.hand_type() != other.hand_type():\n",
    "            return self.hand_type() > other.hand_type()\n",
    "        if self.hand == other.hand:\n",
    "            return false\n",
    "        for i in range(5):\n",
    "            rank = ranks2.index(self.hand[i])\n",
    "            other_rank = ranks2.index(other.hand[i])\n",
    "            if rank != other_rank:\n",
    "                return rank > other_rank\n",
    "        return false"
   ]
  },
  {
   "cell_type": "code",
   "execution_count": 55,
   "id": "0b275947",
   "metadata": {},
   "outputs": [
    {
     "name": "stdout",
     "output_type": "stream",
     "text": [
      "oops? ['Q', 'J', 'Q', 'Q', 'Q'] Counter({'Q': 5, 'J': 1})\n",
      "oops? ['Q', 'J', 'Q', 'Q', 'Q'] Counter({'Q': 5, 'J': 1})\n"
     ]
    },
    {
     "ename": "TypeError",
     "evalue": "'>' not supported between instances of 'NoneType' and 'int'",
     "output_type": "error",
     "traceback": [
      "\u001b[0;31m---------------------------------------------------------------------------\u001b[0m",
      "\u001b[0;31mTypeError\u001b[0m                                 Traceback (most recent call last)",
      "Cell \u001b[0;32mIn[55], line 1\u001b[0m\n\u001b[0;32m----> 1\u001b[0m hands \u001b[38;5;241m=\u001b[39m \u001b[38;5;28;43msorted\u001b[39;49m\u001b[43m(\u001b[49m\u001b[38;5;28;43mlist\u001b[39;49m\u001b[43m(\u001b[49m\u001b[38;5;28;43mmap\u001b[39;49m\u001b[43m(\u001b[49m\u001b[43mHand2\u001b[49m\u001b[43m,\u001b[49m\u001b[43m \u001b[49m\u001b[43mdata\u001b[49m\u001b[38;5;241;43m.\u001b[39;49m\u001b[43msplit\u001b[49m\u001b[43m(\u001b[49m\u001b[38;5;124;43m\"\u001b[39;49m\u001b[38;5;130;43;01m\\n\u001b[39;49;00m\u001b[38;5;124;43m\"\u001b[39;49m\u001b[43m)\u001b[49m\u001b[43m)\u001b[49m\u001b[43m)\u001b[49m\u001b[43m)\u001b[49m\n",
      "File \u001b[0;32m/usr/local/lib/python3.11/functools.py:133\u001b[0m, in \u001b[0;36m_lt_from_gt\u001b[0;34m(self, other)\u001b[0m\n\u001b[1;32m    131\u001b[0m \u001b[38;5;28;01mdef\u001b[39;00m \u001b[38;5;21m_lt_from_gt\u001b[39m(\u001b[38;5;28mself\u001b[39m, other):\n\u001b[1;32m    132\u001b[0m     \u001b[38;5;124m'\u001b[39m\u001b[38;5;124mReturn a < b.  Computed by @total_ordering from (not a > b) and (a != b).\u001b[39m\u001b[38;5;124m'\u001b[39m\n\u001b[0;32m--> 133\u001b[0m     op_result \u001b[38;5;241m=\u001b[39m \u001b[38;5;28;43mtype\u001b[39;49m\u001b[43m(\u001b[49m\u001b[38;5;28;43mself\u001b[39;49m\u001b[43m)\u001b[49m\u001b[38;5;241;43m.\u001b[39;49m\u001b[38;5;21;43m__gt__\u001b[39;49m\u001b[43m(\u001b[49m\u001b[38;5;28;43mself\u001b[39;49m\u001b[43m,\u001b[49m\u001b[43m \u001b[49m\u001b[43mother\u001b[49m\u001b[43m)\u001b[49m\n\u001b[1;32m    134\u001b[0m     \u001b[38;5;28;01mif\u001b[39;00m op_result \u001b[38;5;129;01mis\u001b[39;00m \u001b[38;5;28mNotImplemented\u001b[39m:\n\u001b[1;32m    135\u001b[0m         \u001b[38;5;28;01mreturn\u001b[39;00m op_result\n",
      "Cell \u001b[0;32mIn[54], line 43\u001b[0m, in \u001b[0;36mHand2.__gt__\u001b[0;34m(self, other)\u001b[0m\n\u001b[1;32m     41\u001b[0m \u001b[38;5;28;01mdef\u001b[39;00m \u001b[38;5;21m__gt__\u001b[39m(\u001b[38;5;28mself\u001b[39m, other):\n\u001b[1;32m     42\u001b[0m     \u001b[38;5;28;01mif\u001b[39;00m \u001b[38;5;28mself\u001b[39m\u001b[38;5;241m.\u001b[39mhand_type() \u001b[38;5;241m!=\u001b[39m other\u001b[38;5;241m.\u001b[39mhand_type():\n\u001b[0;32m---> 43\u001b[0m         \u001b[38;5;28;01mreturn\u001b[39;00m \u001b[38;5;28;43mself\u001b[39;49m\u001b[38;5;241;43m.\u001b[39;49m\u001b[43mhand_type\u001b[49m\u001b[43m(\u001b[49m\u001b[43m)\u001b[49m\u001b[43m \u001b[49m\u001b[38;5;241;43m>\u001b[39;49m\u001b[43m \u001b[49m\u001b[43mother\u001b[49m\u001b[38;5;241;43m.\u001b[39;49m\u001b[43mhand_type\u001b[49m\u001b[43m(\u001b[49m\u001b[43m)\u001b[49m\n\u001b[1;32m     44\u001b[0m     \u001b[38;5;28;01mif\u001b[39;00m \u001b[38;5;28mself\u001b[39m\u001b[38;5;241m.\u001b[39mhand \u001b[38;5;241m==\u001b[39m other\u001b[38;5;241m.\u001b[39mhand:\n\u001b[1;32m     45\u001b[0m         \u001b[38;5;28;01mreturn\u001b[39;00m false\n",
      "\u001b[0;31mTypeError\u001b[0m: '>' not supported between instances of 'NoneType' and 'int'"
     ]
    }
   ],
   "source": [
    "hands = sorted(list(map(Hand2, data.split(\"\\n\"))))"
   ]
  },
  {
   "cell_type": "code",
   "execution_count": null,
   "id": "a01fb2e8",
   "metadata": {},
   "outputs": [],
   "source": []
  }
 ],
 "metadata": {
  "kernelspec": {
   "display_name": "Python 3 (ipykernel)",
   "language": "python",
   "name": "python3"
  },
  "language_info": {
   "codemirror_mode": {
    "name": "ipython",
    "version": 3
   },
   "file_extension": ".py",
   "mimetype": "text/x-python",
   "name": "python",
   "nbconvert_exporter": "python",
   "pygments_lexer": "ipython3",
   "version": "3.11.0"
  }
 },
 "nbformat": 4,
 "nbformat_minor": 5
}

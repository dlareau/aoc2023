{
 "cells": [
  {
   "cell_type": "code",
   "execution_count": 60,
   "id": "9b17637f",
   "metadata": {},
   "outputs": [],
   "source": [
    "from aocd.models import Puzzle\n",
    "from functools import total_ordering\n",
    "from collections import Counter\n",
    "puzzle = Puzzle(year=2023, day=7)\n",
    "data = puzzle.input_data"
   ]
  },
  {
   "cell_type": "code",
   "execution_count": 61,
   "id": "86ae738b",
   "metadata": {},
   "outputs": [],
   "source": [
    "@total_ordering\n",
    "class Hand(object):\n",
    "    def __init__(self, input_str, jacks_wild=False):\n",
    "        hand, bid = input_str.split(\" \")\n",
    "        self.hand = list(hand)\n",
    "        self.bid = int(bid)\n",
    "        self.jacks_wild = jacks_wild\n",
    "        \n",
    "    def hand_type(self):\n",
    "        if self.jacks_wild and \"J\" in self.hand:\n",
    "            if self.hand == [\"J\"] * 5:\n",
    "                return 7\n",
    "            temp_hand = [c for c in self.hand if c != \"J\"]\n",
    "            temp_count = Counter(temp_hand)\n",
    "            new_hand = temp_hand + ([temp_count.most_common()[0][0]] * (len(self.hand) - len(temp_hand)))\n",
    "        else:\n",
    "            new_hand = self.hand\n",
    "        \n",
    "        count = Counter(new_hand)\n",
    "        \n",
    "        if len(count) == 1:\n",
    "            return 7\n",
    "        elif count.most_common()[0][1] == 4:\n",
    "            return 6\n",
    "        elif count.most_common()[0][1] == 3 and count.most_common()[1][1] == 2:\n",
    "            return 5\n",
    "        elif count.most_common()[0][1] == 3:\n",
    "            return 4\n",
    "        elif count.most_common()[0][1] == 2 and count.most_common()[1][1] == 2:\n",
    "            return 3\n",
    "        elif count.most_common()[0][1] == 2:\n",
    "            return 2\n",
    "        elif len(count) == 5:\n",
    "            return 1\n",
    "        \n",
    "        \n",
    "    def __eq__(self, other):\n",
    "        return self.hand == other.hand\n",
    "\n",
    "    def __gt__(self, other):\n",
    "        if self.jacks_wild:\n",
    "            ranks = \"J23456789TQKA\"\n",
    "        else:\n",
    "            ranks = \"23456789TJQKA\"\n",
    "        if self.hand_type() != other.hand_type():\n",
    "            return self.hand_type() > other.hand_type()\n",
    "        if self.hand == other.hand:\n",
    "            return false\n",
    "        for i in range(5):\n",
    "            rank = ranks.index(self.hand[i])\n",
    "            other_rank = ranks.index(other.hand[i])\n",
    "            if rank != other_rank:\n",
    "                return rank > other_rank\n",
    "        return false"
   ]
  },
  {
   "cell_type": "code",
   "execution_count": 62,
   "id": "cd4b8361",
   "metadata": {},
   "outputs": [],
   "source": [
    "hands = sorted(list(map(Hand, data.split(\"\\n\"))))"
   ]
  },
  {
   "cell_type": "code",
   "execution_count": 63,
   "id": "0c6ee07e",
   "metadata": {},
   "outputs": [],
   "source": [
    "puzzle.answer_a = sum([h[1].bid * (h[0] + 1) for h in enumerate(hands)])"
   ]
  },
  {
   "cell_type": "code",
   "execution_count": null,
   "id": "e1438b95",
   "metadata": {},
   "outputs": [],
   "source": []
  },
  {
   "cell_type": "code",
   "execution_count": 57,
   "id": "baecdd55",
   "metadata": {},
   "outputs": [],
   "source": [
    "hands = sorted(list(map(Hand2, data.split(\"\\n\"))))"
   ]
  },
  {
   "cell_type": "code",
   "execution_count": 59,
   "id": "05c1f0ca",
   "metadata": {},
   "outputs": [],
   "source": [
    "puzzle.answer_b = sum([h[1].bid * (h[0] + 1) for h in enumerate(hands)])"
   ]
  },
  {
   "cell_type": "code",
   "execution_count": null,
   "id": "f8c28b32",
   "metadata": {},
   "outputs": [],
   "source": []
  }
 ],
 "metadata": {
  "kernelspec": {
   "display_name": "Python 3 (ipykernel)",
   "language": "python",
   "name": "python3"
  },
  "language_info": {
   "codemirror_mode": {
    "name": "ipython",
    "version": 3
   },
   "file_extension": ".py",
   "mimetype": "text/x-python",
   "name": "python",
   "nbconvert_exporter": "python",
   "pygments_lexer": "ipython3",
   "version": "3.11.0"
  }
 },
 "nbformat": 4,
 "nbformat_minor": 5
}

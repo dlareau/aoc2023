{
 "cells": [
  {
   "cell_type": "code",
   "execution_count": 49,
   "id": "0d7b9cac",
   "metadata": {},
   "outputs": [],
   "source": [
    "from aocd.models import Puzzle\n",
    "import json\n",
    "import operator\n",
    "puzzle = Puzzle(year=2023, day=19)\n",
    "data = puzzle.input_data\n",
    "%run helper.ipynb"
   ]
  },
  {
   "cell_type": "code",
   "execution_count": 53,
   "id": "a283fa41",
   "metadata": {},
   "outputs": [],
   "source": [
    "class Rule(object):\n",
    "    def __init__(self, s):\n",
    "        self.default_rule = False\n",
    "        self.category = None\n",
    "        self.func = None\n",
    "        self.value = None\n",
    "        if \":\" not in s:\n",
    "            self.default_rule = True\n",
    "            self.result = s\n",
    "            self.range = range(1, 4001)\n",
    "        else:\n",
    "            rule, result = s.split(\":\")\n",
    "            self.result = result\n",
    "            self.category = rule[0]\n",
    "            self.value = int(rule[2:])\n",
    "            if rule[1] == \"<\":\n",
    "                self.func = operator.lt\n",
    "                self.range = range(1, self.value)\n",
    "            elif rule[1] == \">\":\n",
    "                self.func = operator.gt\n",
    "                self.range = range(self.value + 1, 4001)\n",
    "\n",
    "    def evaluate(self, part):\n",
    "        if self.default_rule:\n",
    "            return self.result\n",
    "        if self.func(part[self.category], self.value):\n",
    "            return self.result\n",
    "        return \"\"\n",
    "\n",
    "class Workflow(object):\n",
    "    def __init__(self, s):\n",
    "        name, remainder = s.split(\"{\")\n",
    "        self.name = name\n",
    "        remainder = remainder.strip(\"}\")\n",
    "        self.rules = [Rule(r) for r in remainder.split(\",\")]\n",
    "\n",
    "    def evaluate(self, part, other_workflows):\n",
    "        for rule in self.rules:\n",
    "            result = rule.evaluate(part)\n",
    "            if result == \"\":\n",
    "                continue\n",
    "            elif result == \"A\":\n",
    "                return True\n",
    "            elif result == \"R\":\n",
    "                return False\n",
    "            elif result in other_workflows:\n",
    "                return other_workflows[result].evaluate(part, other_workflows)\n",
    "            else:\n",
    "                print(part, result, rule.category, rule.value, rule.func, \"ERROR\")\n",
    "\n",
    "def get_new_ranges(old_r, new_r):\n",
    "    matching = range(max(old_r.start, new_r.start), min(old_r.stop, new_r.stop))\n",
    "    if old_r.start < new_r.start:\n",
    "        not_matching = range(old_r.start, min(old_r.stop, new_r.start))\n",
    "    else:\n",
    "        not_matching = range(max(old_r.start, new_r.stop), old_r.stop)\n",
    "    return matching, not_matching\n",
    "\n",
    "def get_accepted_ranges(curr_ranges, workflow):\n",
    "#     print(workflow.name)\n",
    "    ret_ranges = []\n",
    "    for rule in workflow.rules:\n",
    "        if rule.default_rule:\n",
    "            if rule.result == \"A\":\n",
    "                ret_ranges.append(curr_ranges)\n",
    "            elif rule.result == \"R\":\n",
    "                continue\n",
    "            else:\n",
    "                ret_ranges += get_accepted_ranges(curr_ranges, workflow_dict[rule.result])\n",
    "        else:\n",
    "            matching, not_matching = get_new_ranges(curr_ranges[rule.category], rule.range)\n",
    "            if len(matching) > 0:\n",
    "                if rule.result == \"A\":\n",
    "                    ret_ranges.append(curr_ranges)\n",
    "                elif rule.result == \"R\":\n",
    "                    continue\n",
    "                else:\n",
    "                    ret_ranges += get_accepted_ranges(curr_ranges | {rule.category: matching}, workflow_dict[rule.result])\n",
    "            if not_matching:\n",
    "                curr_ranges = curr_ranges | {rule.category: not_matching}\n",
    "#     print(\"base\", ret_ranges)\n",
    "    return ret_ranges"
   ]
  },
  {
   "cell_type": "code",
   "execution_count": 54,
   "id": "67b0c8dd",
   "metadata": {},
   "outputs": [],
   "source": [
    "workflows, parts = data.split(\"\\n\\n\")\n",
    "parts = parts.replace('x', '\"x\"').replace('m', '\"m\"').replace('a', '\"a\"').replace('s', '\"s\"').replace('=', ':')\n",
    "workflows = workflows.split(\"\\n\")\n",
    "parts = [json.loads(x) for x in parts.split(\"\\n\")]\n",
    "workflows = [Workflow(x) for x in workflows]\n",
    "workflow_dict = {w.name: w for w in workflows}"
   ]
  },
  {
   "cell_type": "code",
   "execution_count": 4,
   "id": "385e814f",
   "metadata": {},
   "outputs": [],
   "source": [
    "good_parts = [part for part in parts if workflow_dict[\"in\"].evaluate(part, workflow_dict)]"
   ]
  },
  {
   "cell_type": "code",
   "execution_count": 5,
   "id": "8ea181f7",
   "metadata": {},
   "outputs": [],
   "source": [
    "puzzle.answer_a = sum([sum(list(part.values())) for part in good_parts])"
   ]
  },
  {
   "cell_type": "code",
   "execution_count": 11,
   "id": "dd4f8129",
   "metadata": {},
   "outputs": [],
   "source": [
    "start_ranges = {\"x\": range(1,4001), \"m\": range(1,4001), \"a\": range(1,4001), \"s\": range(1,4001)}"
   ]
  },
  {
   "cell_type": "code",
   "execution_count": 55,
   "id": "14a577f0",
   "metadata": {},
   "outputs": [],
   "source": [
    "rrs = get_accepted_ranges(start_ranges, workflow_dict[\"in\"])"
   ]
  },
  {
   "cell_type": "code",
   "execution_count": null,
   "id": "8d75126d",
   "metadata": {},
   "outputs": [],
   "source": [
    "# 132392981697081"
   ]
  }
 ],
 "metadata": {
  "kernelspec": {
   "display_name": "Python 3 (ipykernel)",
   "language": "python",
   "name": "python3"
  },
  "language_info": {
   "codemirror_mode": {
    "name": "ipython",
    "version": 3
   },
   "file_extension": ".py",
   "mimetype": "text/x-python",
   "name": "python",
   "nbconvert_exporter": "python",
   "pygments_lexer": "ipython3",
   "version": "3.11.0"
  }
 },
 "nbformat": 4,
 "nbformat_minor": 5
}

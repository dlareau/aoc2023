{
 "cells": [
  {
   "cell_type": "code",
   "execution_count": 55,
   "id": "5433061f",
   "metadata": {},
   "outputs": [],
   "source": [
    "from aocd.models import Puzzle\n",
    "puzzle = Puzzle(year=2023, day=15)\n",
    "data = puzzle.input_data\n",
    "%run helper.ipynb"
   ]
  },
  {
   "cell_type": "code",
   "execution_count": 56,
   "id": "4901bf8e",
   "metadata": {},
   "outputs": [],
   "source": [
    "def ahash(s):\n",
    "    h = 0\n",
    "    for c in s:\n",
    "        h += ord(c)\n",
    "        h = h * 17\n",
    "        h = h % 256\n",
    "    return h\n",
    "\n",
    "def run_instruction(instruction, boxes):\n",
    "    if \"=\" in instruction:\n",
    "        label, lens = instruction.split(\"=\")\n",
    "        box = ahash(label)\n",
    "        boxes[box][label] = lens\n",
    "    if \"-\" in instruction:\n",
    "        label = instruction[:-1]\n",
    "        box = ahash(label)\n",
    "        if label in boxes[box]:\n",
    "            del boxes[box][label]\n",
    "    return boxes\n",
    "\n",
    "def score_boxes(boxes):\n",
    "    total = 0\n",
    "    for i in range(len(boxes)):\n",
    "        items = list(boxes[i].items())\n",
    "        for j in range(len(items)):\n",
    "            total += ((i+1) * (j+1) * int(items[j][1]))\n",
    "    return total"
   ]
  },
  {
   "cell_type": "code",
   "execution_count": 57,
   "id": "9b356329",
   "metadata": {},
   "outputs": [],
   "source": [
    "puzzle.answer_a = sum([ahash(s) for s in data.split(\",\")])"
   ]
  },
  {
   "cell_type": "code",
   "execution_count": 58,
   "id": "8ae6651c",
   "metadata": {},
   "outputs": [],
   "source": [
    "boxes = [{} for i in range(256)]\n",
    "for i in data.split(\",\"):\n",
    "    boxes = run_instruction(i, boxes)"
   ]
  },
  {
   "cell_type": "code",
   "execution_count": 59,
   "id": "86e40cfd",
   "metadata": {},
   "outputs": [],
   "source": [
    "puzzle.answer_b = score_boxes(boxes)"
   ]
  },
  {
   "cell_type": "code",
   "execution_count": null,
   "id": "5ecc4ca3",
   "metadata": {},
   "outputs": [],
   "source": []
  }
 ],
 "metadata": {
  "kernelspec": {
   "display_name": "Python 3 (ipykernel)",
   "language": "python",
   "name": "python3"
  },
  "language_info": {
   "codemirror_mode": {
    "name": "ipython",
    "version": 3
   },
   "file_extension": ".py",
   "mimetype": "text/x-python",
   "name": "python",
   "nbconvert_exporter": "python",
   "pygments_lexer": "ipython3",
   "version": "3.11.0"
  }
 },
 "nbformat": 4,
 "nbformat_minor": 5
}

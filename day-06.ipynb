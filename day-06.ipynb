{
 "cells": [
  {
   "cell_type": "code",
   "execution_count": 19,
   "id": "cdc81f45",
   "metadata": {},
   "outputs": [],
   "source": [
    "from aocd.models import Puzzle\n",
    "puzzle = Puzzle(year=2023, day=6)\n",
    "data = puzzle.input_data"
   ]
  },
  {
   "cell_type": "code",
   "execution_count": 20,
   "id": "7d16ce54",
   "metadata": {},
   "outputs": [
    {
     "data": {
      "text/plain": [
       "['Time:        46     80     78     66',\n",
       " 'Distance:   214   1177   1402   1024']"
      ]
     },
     "execution_count": 20,
     "metadata": {},
     "output_type": "execute_result"
    }
   ],
   "source": [
    "data.split(\"\\n\")"
   ]
  },
  {
   "cell_type": "code",
   "execution_count": 21,
   "id": "e5015c66",
   "metadata": {},
   "outputs": [],
   "source": [
    "def get_num_winning_times(time, dist):\n",
    "    s = 0\n",
    "    for i in range(time):\n",
    "        if (i * (time-i)) > dist:\n",
    "            s += 1\n",
    "    return s"
   ]
  },
  {
   "cell_type": "code",
   "execution_count": 22,
   "id": "a66e49b9",
   "metadata": {},
   "outputs": [],
   "source": [
    "puzzle.answer_a = (get_num_winning_times(46, 214) *\n",
    "                   get_num_winning_times(80, 1177) *\n",
    "                   get_num_winning_times(78, 1402) *\n",
    "                   get_num_winning_times(66, 1024))"
   ]
  },
  {
   "cell_type": "code",
   "execution_count": 18,
   "id": "d18bc7b9",
   "metadata": {},
   "outputs": [],
   "source": [
    "puzzle.answer_b = get_num_winning_times(46807866, 214117714021024)"
   ]
  },
  {
   "cell_type": "code",
   "execution_count": null,
   "id": "9319fa3d",
   "metadata": {},
   "outputs": [],
   "source": []
  }
 ],
 "metadata": {
  "kernelspec": {
   "display_name": "Python 3 (ipykernel)",
   "language": "python",
   "name": "python3"
  },
  "language_info": {
   "codemirror_mode": {
    "name": "ipython",
    "version": 3
   },
   "file_extension": ".py",
   "mimetype": "text/x-python",
   "name": "python",
   "nbconvert_exporter": "python",
   "pygments_lexer": "ipython3",
   "version": "3.11.0"
  }
 },
 "nbformat": 4,
 "nbformat_minor": 5
}
